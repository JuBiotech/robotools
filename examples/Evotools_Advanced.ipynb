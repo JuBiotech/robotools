{
 "cells": [
  {
   "cell_type": "markdown",
   "metadata": {},
   "source": [
    "# Advanced Worklist Commands\n",
    "This example shows how to craft fine-tuned worklists."
   ]
  },
  {
   "cell_type": "code",
   "execution_count": 2,
   "metadata": {},
   "outputs": [],
   "source": [
    "%load_ext autoreload\n",
    "%autoreload 2\n",
    "\n",
    "import numpy\n",
    "\n",
    "from robotools import liquidhandling\n",
    "from robotools import evotools"
   ]
  },
  {
   "cell_type": "markdown",
   "metadata": {},
   "source": [
    "## Labwares\n",
    "For this example, we use just one 96-well plate."
   ]
  },
  {
   "cell_type": "code",
   "execution_count": 3,
   "metadata": {},
   "outputs": [
    {
     "name": "stdout",
     "output_type": "stream",
     "text": [
      "96-well plate\n",
      "[[0. 0. 0. 0. 0. 0. 0. 0. 0. 0. 0. 0.]\n",
      " [0. 0. 0. 0. 0. 0. 0. 0. 0. 0. 0. 0.]\n",
      " [0. 0. 0. 0. 0. 0. 0. 0. 0. 0. 0. 0.]\n",
      " [0. 0. 0. 0. 0. 0. 0. 0. 0. 0. 0. 0.]\n",
      " [0. 0. 0. 0. 0. 0. 0. 0. 0. 0. 0. 0.]\n",
      " [0. 0. 0. 0. 0. 0. 0. 0. 0. 0. 0. 0.]\n",
      " [0. 0. 0. 0. 0. 0. 0. 0. 0. 0. 0. 0.]\n",
      " [0. 0. 0. 0. 0. 0. 0. 0. 0. 0. 0. 0.]]\n"
     ]
    }
   ],
   "source": [
    "plate = liquidhandling.Labware('96-well plate', 8, 12, min_volume=10, max_volume=250)\n",
    "print(plate)"
   ]
  },
  {
   "cell_type": "markdown",
   "metadata": {},
   "source": [
    "## Pipetting the assay\n",
    "Here, we're creating a GWL-worklist that can be given to the EVOware. It will prepare the 96-well assay plate with mastermix and transfer the samples.\n",
    "\n",
    "The `Worklist` implements almost all commands of EVOware worklists. For example, you can `decontaminate`, `wash`, `set_ditis`, or use `aspirate_well`/`dispense_well` to customize individual steps."
   ]
  },
  {
   "cell_type": "code",
   "execution_count": 5,
   "metadata": {},
   "outputs": [
    {
     "name": "stdout",
     "output_type": "stream",
     "text": [
      "96-well plate\n",
      "[[ 80.  20.  20.  20.   0.   0.   0.   0.   0.   0.   0.   0.]\n",
      " [  0.  20.   0.   0.   0.   0.   0.   0.   0.   0.   0.   0.]\n",
      " [  0.  20.   0.   0.   0.   0.   0.   0.   0.   0.   0.   0.]\n",
      " [  0.  20.   0.   0.   0.   0.   0.   0.   0.   0.   0.   0.]\n",
      " [ 60.  80. 100. 120.   0.   0.   0.   0.   0.   0.   0.   0.]\n",
      " [ 60.  80. 100. 120.   0.   0.   0.   0.   0.   0.   0.   0.]\n",
      " [ 60.  80. 100. 120.   0.   0.   0.   0.   0.   0.   0.   0.]\n",
      " [ 60.  80. 100. 120.   0.   0.   0.   0.   0.   0.   0.   0.]]\n",
      "C;We can add multiline-comments about our wash procedure:\n",
      "C;Washing scheme 3 (defined in the EVOware) is used.\n",
      "W3;\n",
      "A;Systemliquid;;System;1;;100.00;;;;\n",
      "D;96-well plate;;;1;;100.00;;;;\n",
      "WD;\n",
      "D;96-well plate;;;5;;30.00;;;;\n",
      "D;96-well plate;;;6;;30.00;;;;\n",
      "D;96-well plate;;;7;;30.00;;;;\n",
      "D;96-well plate;;;8;;30.00;;;;\n",
      "D;96-well plate;;;13;;40.00;;;;\n",
      "D;96-well plate;;;14;;40.00;;;;\n",
      "D;96-well plate;;;15;;40.00;;;;\n",
      "D;96-well plate;;;16;;40.00;;;;\n",
      "D;96-well plate;;;21;;50.00;;;;\n",
      "D;96-well plate;;;22;;50.00;;;;\n",
      "D;96-well plate;;;23;;50.00;;;;\n",
      "D;96-well plate;;;24;;50.00;;;;\n",
      "D;96-well plate;;;29;;60.00;;;;\n",
      "D;96-well plate;;;30;;60.00;;;;\n",
      "D;96-well plate;;;31;;60.00;;;;\n",
      "D;96-well plate;;;32;;60.00;;;;\n",
      "C;One-to-many transfer from A01 to A02-A04\n",
      "A;96-well plate;;;1;;10.00;MyAwesomeLiquidClass;;;\n",
      "D;96-well plate;;;9;;10.00;MyAwesomeLiquidClass;;;\n",
      "W1;\n",
      "A;96-well plate;;;1;;10.00;MyAwesomeLiquidClass;;;\n",
      "D;96-well plate;;;17;;10.00;MyAwesomeLiquidClass;;;\n",
      "W1;\n",
      "A;96-well plate;;;1;;10.00;MyAwesomeLiquidClass;;;\n",
      "D;96-well plate;;;25;;10.00;MyAwesomeLiquidClass;;;\n",
      "W1;\n",
      "C;Using tips 2/3/4\n",
      "A;96-well plate;;;1;;10.00;;;2;\n",
      "A;96-well plate;;;1;;10.00;;;4;\n",
      "A;96-well plate;;;1;;10.00;;;8;\n",
      "D;96-well plate;;;10;;10.00;;;2;\n",
      "D;96-well plate;;;11;;10.00;;;4;\n",
      "D;96-well plate;;;12;;10.00;;;8;\n"
     ]
    }
   ],
   "source": [
    "with evotools.Worklist() as wl:\n",
    "    wl.comment(\"\"\"\n",
    "    We can add multiline-comments about our wash procedure:\n",
    "    Washing scheme 3 (defined in the EVOware) is used.\n",
    "    \"\"\")\n",
    "    wl.wash(scheme=3)\n",
    "    \n",
    "    # pipetting system liquid into A01\n",
    "    wl.aspirate_well(evotools.Labwares.SystemLiquid, position=1, volume=100, rack_type='System')\n",
    "    wl.dispense(plate, 'A01', 100)\n",
    "    \n",
    "    wl.decontaminate()\n",
    "    \n",
    "    wl.dispense(\n",
    "        plate, plate.wells[4:,:4],\n",
    "        volumes=numpy.array([\n",
    "            [30,40,50,60],\n",
    "            [30,40,50,60],\n",
    "            [30,40,50,60],\n",
    "            [30,40,50,60],\n",
    "        ])            \n",
    "    )\n",
    "    \n",
    "    wl.comment('One-to-many transfer from A01 to A02-A04')\n",
    "    wl.transfer(\n",
    "        plate, 'A01',\n",
    "        plate, ['A02', 'A03', 'A04'],\n",
    "        volumes=10,\n",
    "        liquid_class='MyAwesomeLiquidClass'\n",
    "    )\n",
    "    \n",
    "    wl.comment('Using tips 2/3/4')\n",
    "    wl.aspirate(plate, 'A01', volumes=10, tip=evotools.Tip.T2)\n",
    "    wl.aspirate(plate, 'A01', volumes=10, tip=evotools.Tip.T3)\n",
    "    wl.aspirate(plate, 'A01', volumes=10, tip=evotools.Tip.T4)\n",
    "    wl.dispense(plate, 'B02', volumes=10, tip=2)\n",
    "    wl.dispense(plate, 'C02', volumes=10, tip=3)\n",
    "    wl.dispense(plate, 'D02', volumes=10, tip=4)\n",
    "    \n",
    "print(plate)\n",
    "print(wl)"
   ]
  },
  {
   "cell_type": "code",
   "execution_count": null,
   "metadata": {},
   "outputs": [],
   "source": []
  }
 ],
 "metadata": {
  "kernelspec": {
   "display_name": "Python 3",
   "language": "python",
   "name": "python3"
  },
  "language_info": {
   "codemirror_mode": {
    "name": "ipython",
    "version": 3
   },
   "file_extension": ".py",
   "mimetype": "text/x-python",
   "name": "python",
   "nbconvert_exporter": "python",
   "pygments_lexer": "ipython3",
   "version": "3.6.8"
  }
 },
 "nbformat": 4,
 "nbformat_minor": 2
}
