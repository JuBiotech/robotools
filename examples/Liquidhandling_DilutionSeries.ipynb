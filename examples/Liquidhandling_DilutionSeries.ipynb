{
 "cells": [
  {
   "cell_type": "markdown",
   "metadata": {},
   "source": [
    "# Dilution Series\n",
    "This example shows how to use `liquidhandling.Labware` to plan a simple dilution series."
   ]
  },
  {
   "cell_type": "code",
   "execution_count": 1,
   "metadata": {},
   "outputs": [],
   "source": [
    "%load_ext autoreload\n",
    "%autoreload 2\n",
    "\n",
    "import numpy\n",
    "\n",
    "from robotools import liquidhandling"
   ]
  },
  {
   "cell_type": "markdown",
   "metadata": {},
   "source": [
    "## Defining Labwares\n",
    "Let's assume we have 4 different stock solutions (`stocks`) that we want to dilute into a 96-well plate (`dilutions`):"
   ]
  },
  {
   "cell_type": "code",
   "execution_count": 2,
   "metadata": {
    "scrolled": false
   },
   "outputs": [
    {
     "name": "stdout",
     "output_type": "stream",
     "text": [
      "StockTrough\n",
      "[[20000. 10000. 10000. 10000.]]\n",
      "Dilutions\n",
      "[[0. 0. 0. 0. 0. 0. 0. 0. 0. 0. 0. 0.]\n",
      " [0. 0. 0. 0. 0. 0. 0. 0. 0. 0. 0. 0.]\n",
      " [0. 0. 0. 0. 0. 0. 0. 0. 0. 0. 0. 0.]\n",
      " [0. 0. 0. 0. 0. 0. 0. 0. 0. 0. 0. 0.]\n",
      " [0. 0. 0. 0. 0. 0. 0. 0. 0. 0. 0. 0.]\n",
      " [0. 0. 0. 0. 0. 0. 0. 0. 0. 0. 0. 0.]\n",
      " [0. 0. 0. 0. 0. 0. 0. 0. 0. 0. 0. 0.]\n",
      " [0. 0. 0. 0. 0. 0. 0. 0. 0. 0. 0. 0.]]\n"
     ]
    }
   ],
   "source": [
    "# here we create a 1x4 trough that can be accessed with all 8 tips\n",
    "stocks = liquidhandling.Labware('StockTrough', 1, 4,\n",
    "    min_volume=1000, max_volume=30*1000,\n",
    "    virtual_rows=8,\n",
    "    initial_volumes=[20*1000, 10*1000, 10*1000, 10*1000]\n",
    ")\n",
    "\n",
    "# this will be the 96-well plate with dilutions\n",
    "dilutions = liquidhandling.Labware('Dilutions', 8, 12, 10, 250)\n",
    "\n",
    "print(stocks)\n",
    "print(dilutions)"
   ]
  },
  {
   "cell_type": "markdown",
   "metadata": {},
   "source": [
    "## Adding and removing volumes\n",
    "In the first step, we aspirate 200 µl from the four stock solutions and dispense them to the 96-well plate:"
   ]
  },
  {
   "cell_type": "code",
   "execution_count": 3,
   "metadata": {},
   "outputs": [],
   "source": [
    "stocks.remove(stocks.wells[1,:], 200, label='transfer to plate')\n",
    "dilutions.add(dilutions.wells[0:4,0], 200, label='transfer from stocks')"
   ]
  },
  {
   "cell_type": "markdown",
   "metadata": {},
   "source": [
    "The history of the `stocks` shows that we have removed 200 µl from each one."
   ]
  },
  {
   "cell_type": "code",
   "execution_count": 4,
   "metadata": {},
   "outputs": [
    {
     "name": "stdout",
     "output_type": "stream",
     "text": [
      "StockTrough\n",
      "initial\n",
      "[[20000. 10000. 10000. 10000.]]\n",
      "\n",
      "transfer to plate\n",
      "[[19800.  9800.  9800.  9800.]]\n",
      "\n"
     ]
    }
   ],
   "source": [
    "print(stocks.report)"
   ]
  },
  {
   "cell_type": "markdown",
   "metadata": {},
   "source": [
    "Accordingly, the history of the `dilutions` plate shows that we've added 200 µl into A01, B01, C01 and D01."
   ]
  },
  {
   "cell_type": "code",
   "execution_count": 5,
   "metadata": {
    "scrolled": false
   },
   "outputs": [
    {
     "name": "stdout",
     "output_type": "stream",
     "text": [
      "Dilutions\n",
      "initial\n",
      "[[0. 0. 0. 0. 0. 0. 0. 0. 0. 0. 0. 0.]\n",
      " [0. 0. 0. 0. 0. 0. 0. 0. 0. 0. 0. 0.]\n",
      " [0. 0. 0. 0. 0. 0. 0. 0. 0. 0. 0. 0.]\n",
      " [0. 0. 0. 0. 0. 0. 0. 0. 0. 0. 0. 0.]\n",
      " [0. 0. 0. 0. 0. 0. 0. 0. 0. 0. 0. 0.]\n",
      " [0. 0. 0. 0. 0. 0. 0. 0. 0. 0. 0. 0.]\n",
      " [0. 0. 0. 0. 0. 0. 0. 0. 0. 0. 0. 0.]\n",
      " [0. 0. 0. 0. 0. 0. 0. 0. 0. 0. 0. 0.]]\n",
      "\n",
      "transfer from stocks\n",
      "[[200.   0.   0.   0.   0.   0.   0.   0.   0.   0.   0.   0.]\n",
      " [200.   0.   0.   0.   0.   0.   0.   0.   0.   0.   0.   0.]\n",
      " [200.   0.   0.   0.   0.   0.   0.   0.   0.   0.   0.   0.]\n",
      " [200.   0.   0.   0.   0.   0.   0.   0.   0.   0.   0.   0.]\n",
      " [  0.   0.   0.   0.   0.   0.   0.   0.   0.   0.   0.   0.]\n",
      " [  0.   0.   0.   0.   0.   0.   0.   0.   0.   0.   0.   0.]\n",
      " [  0.   0.   0.   0.   0.   0.   0.   0.   0.   0.   0.   0.]\n",
      " [  0.   0.   0.   0.   0.   0.   0.   0.   0.   0.   0.   0.]]\n",
      "\n"
     ]
    }
   ],
   "source": [
    "print(dilutions.report)"
   ]
  },
  {
   "cell_type": "markdown",
   "metadata": {},
   "source": [
    "## Dilutions\n",
    "Now we can do 10x dilutions into the next colums."
   ]
  },
  {
   "cell_type": "code",
   "execution_count": 6,
   "metadata": {},
   "outputs": [
    {
     "name": "stdout",
     "output_type": "stream",
     "text": [
      "Dilutions\n",
      "initial\n",
      "[[0. 0. 0. 0. 0. 0. 0. 0. 0. 0. 0. 0.]\n",
      " [0. 0. 0. 0. 0. 0. 0. 0. 0. 0. 0. 0.]\n",
      " [0. 0. 0. 0. 0. 0. 0. 0. 0. 0. 0. 0.]\n",
      " [0. 0. 0. 0. 0. 0. 0. 0. 0. 0. 0. 0.]\n",
      " [0. 0. 0. 0. 0. 0. 0. 0. 0. 0. 0. 0.]\n",
      " [0. 0. 0. 0. 0. 0. 0. 0. 0. 0. 0. 0.]\n",
      " [0. 0. 0. 0. 0. 0. 0. 0. 0. 0. 0. 0.]\n",
      " [0. 0. 0. 0. 0. 0. 0. 0. 0. 0. 0. 0.]]\n",
      "\n",
      "transfer from stocks\n",
      "[[200.   0.   0.   0.   0.   0.   0.   0.   0.   0.   0.   0.]\n",
      " [200.   0.   0.   0.   0.   0.   0.   0.   0.   0.   0.   0.]\n",
      " [200.   0.   0.   0.   0.   0.   0.   0.   0.   0.   0.   0.]\n",
      " [200.   0.   0.   0.   0.   0.   0.   0.   0.   0.   0.   0.]\n",
      " [  0.   0.   0.   0.   0.   0.   0.   0.   0.   0.   0.   0.]\n",
      " [  0.   0.   0.   0.   0.   0.   0.   0.   0.   0.   0.   0.]\n",
      " [  0.   0.   0.   0.   0.   0.   0.   0.   0.   0.   0.   0.]\n",
      " [  0.   0.   0.   0.   0.   0.   0.   0.   0.   0.   0.   0.]]\n",
      "\n",
      "aspirating\n",
      "[[180.   0.   0.   0.   0.   0.   0.   0.   0.   0.   0.   0.]\n",
      " [180.   0.   0.   0.   0.   0.   0.   0.   0.   0.   0.   0.]\n",
      " [180.   0.   0.   0.   0.   0.   0.   0.   0.   0.   0.   0.]\n",
      " [180.   0.   0.   0.   0.   0.   0.   0.   0.   0.   0.   0.]\n",
      " [  0.   0.   0.   0.   0.   0.   0.   0.   0.   0.   0.   0.]\n",
      " [  0.   0.   0.   0.   0.   0.   0.   0.   0.   0.   0.   0.]\n",
      " [  0.   0.   0.   0.   0.   0.   0.   0.   0.   0.   0.   0.]\n",
      " [  0.   0.   0.   0.   0.   0.   0.   0.   0.   0.   0.   0.]]\n",
      "\n",
      "dispensing\n",
      "[[180.  20.   0.   0.   0.   0.   0.   0.   0.   0.   0.   0.]\n",
      " [180.  20.   0.   0.   0.   0.   0.   0.   0.   0.   0.   0.]\n",
      " [180.  20.   0.   0.   0.   0.   0.   0.   0.   0.   0.   0.]\n",
      " [180.  20.   0.   0.   0.   0.   0.   0.   0.   0.   0.   0.]\n",
      " [  0.   0.   0.   0.   0.   0.   0.   0.   0.   0.   0.   0.]\n",
      " [  0.   0.   0.   0.   0.   0.   0.   0.   0.   0.   0.   0.]\n",
      " [  0.   0.   0.   0.   0.   0.   0.   0.   0.   0.   0.   0.]\n",
      " [  0.   0.   0.   0.   0.   0.   0.   0.   0.   0.   0.   0.]]\n",
      "\n",
      "dilute 10x with water\n",
      "[[180. 200.   0.   0.   0.   0.   0.   0.   0.   0.   0.   0.]\n",
      " [180. 200.   0.   0.   0.   0.   0.   0.   0.   0.   0.   0.]\n",
      " [180. 200.   0.   0.   0.   0.   0.   0.   0.   0.   0.   0.]\n",
      " [180. 200.   0.   0.   0.   0.   0.   0.   0.   0.   0.   0.]\n",
      " [  0.   0.   0.   0.   0.   0.   0.   0.   0.   0.   0.   0.]\n",
      " [  0.   0.   0.   0.   0.   0.   0.   0.   0.   0.   0.   0.]\n",
      " [  0.   0.   0.   0.   0.   0.   0.   0.   0.   0.   0.   0.]\n",
      " [  0.   0.   0.   0.   0.   0.   0.   0.   0.   0.   0.   0.]]\n",
      "\n"
     ]
    }
   ],
   "source": [
    "dilutions.remove(dilutions.wells[0:4,0], 20, label='aspirating')\n",
    "dilutions.add(dilutions.wells[0:4,1], 20, label='dispensing')\n",
    "# fill up with water (trough not shown)\n",
    "dilutions.add(dilutions.wells[0:4,1], 180, label='dilute 10x with water')\n",
    "print(dilutions.report)"
   ]
  },
  {
   "cell_type": "markdown",
   "metadata": {},
   "source": [
    "The history can be condensed to make it easier to read:"
   ]
  },
  {
   "cell_type": "code",
   "execution_count": 7,
   "metadata": {},
   "outputs": [
    {
     "name": "stdout",
     "output_type": "stream",
     "text": [
      "Dilutions\n",
      "initial\n",
      "[[0. 0. 0. 0. 0. 0. 0. 0. 0. 0. 0. 0.]\n",
      " [0. 0. 0. 0. 0. 0. 0. 0. 0. 0. 0. 0.]\n",
      " [0. 0. 0. 0. 0. 0. 0. 0. 0. 0. 0. 0.]\n",
      " [0. 0. 0. 0. 0. 0. 0. 0. 0. 0. 0. 0.]\n",
      " [0. 0. 0. 0. 0. 0. 0. 0. 0. 0. 0. 0.]\n",
      " [0. 0. 0. 0. 0. 0. 0. 0. 0. 0. 0. 0.]\n",
      " [0. 0. 0. 0. 0. 0. 0. 0. 0. 0. 0. 0.]\n",
      " [0. 0. 0. 0. 0. 0. 0. 0. 0. 0. 0. 0.]]\n",
      "\n",
      "transfer from stocks\n",
      "[[200.   0.   0.   0.   0.   0.   0.   0.   0.   0.   0.   0.]\n",
      " [200.   0.   0.   0.   0.   0.   0.   0.   0.   0.   0.   0.]\n",
      " [200.   0.   0.   0.   0.   0.   0.   0.   0.   0.   0.   0.]\n",
      " [200.   0.   0.   0.   0.   0.   0.   0.   0.   0.   0.   0.]\n",
      " [  0.   0.   0.   0.   0.   0.   0.   0.   0.   0.   0.   0.]\n",
      " [  0.   0.   0.   0.   0.   0.   0.   0.   0.   0.   0.   0.]\n",
      " [  0.   0.   0.   0.   0.   0.   0.   0.   0.   0.   0.   0.]\n",
      " [  0.   0.   0.   0.   0.   0.   0.   0.   0.   0.   0.   0.]]\n",
      "\n",
      "dilute 10x with water\n",
      "[[180. 200.   0.   0.   0.   0.   0.   0.   0.   0.   0.   0.]\n",
      " [180. 200.   0.   0.   0.   0.   0.   0.   0.   0.   0.   0.]\n",
      " [180. 200.   0.   0.   0.   0.   0.   0.   0.   0.   0.   0.]\n",
      " [180. 200.   0.   0.   0.   0.   0.   0.   0.   0.   0.   0.]\n",
      " [  0.   0.   0.   0.   0.   0.   0.   0.   0.   0.   0.   0.]\n",
      " [  0.   0.   0.   0.   0.   0.   0.   0.   0.   0.   0.   0.]\n",
      " [  0.   0.   0.   0.   0.   0.   0.   0.   0.   0.   0.   0.]\n",
      " [  0.   0.   0.   0.   0.   0.   0.   0.   0.   0.   0.   0.]]\n",
      "\n"
     ]
    }
   ],
   "source": [
    "dilutions.condense_log(n=3)\n",
    "print(dilutions.report)"
   ]
  },
  {
   "cell_type": "markdown",
   "metadata": {},
   "source": [
    "Of course, we can use a for-loop to do the next dilutions."
   ]
  },
  {
   "cell_type": "code",
   "execution_count": 8,
   "metadata": {},
   "outputs": [
    {
     "name": "stdout",
     "output_type": "stream",
     "text": [
      "Dilutions\n",
      "initial\n",
      "[[0. 0. 0. 0. 0. 0. 0. 0. 0. 0. 0. 0.]\n",
      " [0. 0. 0. 0. 0. 0. 0. 0. 0. 0. 0. 0.]\n",
      " [0. 0. 0. 0. 0. 0. 0. 0. 0. 0. 0. 0.]\n",
      " [0. 0. 0. 0. 0. 0. 0. 0. 0. 0. 0. 0.]\n",
      " [0. 0. 0. 0. 0. 0. 0. 0. 0. 0. 0. 0.]\n",
      " [0. 0. 0. 0. 0. 0. 0. 0. 0. 0. 0. 0.]\n",
      " [0. 0. 0. 0. 0. 0. 0. 0. 0. 0. 0. 0.]\n",
      " [0. 0. 0. 0. 0. 0. 0. 0. 0. 0. 0. 0.]]\n",
      "\n",
      "transfer from stocks\n",
      "[[200.   0.   0.   0.   0.   0.   0.   0.   0.   0.   0.   0.]\n",
      " [200.   0.   0.   0.   0.   0.   0.   0.   0.   0.   0.   0.]\n",
      " [200.   0.   0.   0.   0.   0.   0.   0.   0.   0.   0.   0.]\n",
      " [200.   0.   0.   0.   0.   0.   0.   0.   0.   0.   0.   0.]\n",
      " [  0.   0.   0.   0.   0.   0.   0.   0.   0.   0.   0.   0.]\n",
      " [  0.   0.   0.   0.   0.   0.   0.   0.   0.   0.   0.   0.]\n",
      " [  0.   0.   0.   0.   0.   0.   0.   0.   0.   0.   0.   0.]\n",
      " [  0.   0.   0.   0.   0.   0.   0.   0.   0.   0.   0.   0.]]\n",
      "\n",
      "dilute 10x with water\n",
      "[[180. 200.   0.   0.   0.   0.   0.   0.   0.   0.   0.   0.]\n",
      " [180. 200.   0.   0.   0.   0.   0.   0.   0.   0.   0.   0.]\n",
      " [180. 200.   0.   0.   0.   0.   0.   0.   0.   0.   0.   0.]\n",
      " [180. 200.   0.   0.   0.   0.   0.   0.   0.   0.   0.   0.]\n",
      " [  0.   0.   0.   0.   0.   0.   0.   0.   0.   0.   0.   0.]\n",
      " [  0.   0.   0.   0.   0.   0.   0.   0.   0.   0.   0.   0.]\n",
      " [  0.   0.   0.   0.   0.   0.   0.   0.   0.   0.   0.   0.]\n",
      " [  0.   0.   0.   0.   0.   0.   0.   0.   0.   0.   0.   0.]]\n",
      "\n",
      "dilute 10x with water\n",
      "[[180. 180. 200.   0.   0.   0.   0.   0.   0.   0.   0.   0.]\n",
      " [180. 180. 200.   0.   0.   0.   0.   0.   0.   0.   0.   0.]\n",
      " [180. 180. 200.   0.   0.   0.   0.   0.   0.   0.   0.   0.]\n",
      " [180. 180. 200.   0.   0.   0.   0.   0.   0.   0.   0.   0.]\n",
      " [  0.   0.   0.   0.   0.   0.   0.   0.   0.   0.   0.   0.]\n",
      " [  0.   0.   0.   0.   0.   0.   0.   0.   0.   0.   0.   0.]\n",
      " [  0.   0.   0.   0.   0.   0.   0.   0.   0.   0.   0.   0.]\n",
      " [  0.   0.   0.   0.   0.   0.   0.   0.   0.   0.   0.   0.]]\n",
      "\n",
      "dilute 10x with water\n",
      "[[180. 180. 180. 200.   0.   0.   0.   0.   0.   0.   0.   0.]\n",
      " [180. 180. 180. 200.   0.   0.   0.   0.   0.   0.   0.   0.]\n",
      " [180. 180. 180. 200.   0.   0.   0.   0.   0.   0.   0.   0.]\n",
      " [180. 180. 180. 200.   0.   0.   0.   0.   0.   0.   0.   0.]\n",
      " [  0.   0.   0.   0.   0.   0.   0.   0.   0.   0.   0.   0.]\n",
      " [  0.   0.   0.   0.   0.   0.   0.   0.   0.   0.   0.   0.]\n",
      " [  0.   0.   0.   0.   0.   0.   0.   0.   0.   0.   0.   0.]\n",
      " [  0.   0.   0.   0.   0.   0.   0.   0.   0.   0.   0.   0.]]\n",
      "\n",
      "dilute 10x with water\n",
      "[[180. 180. 180. 180. 200.   0.   0.   0.   0.   0.   0.   0.]\n",
      " [180. 180. 180. 180. 200.   0.   0.   0.   0.   0.   0.   0.]\n",
      " [180. 180. 180. 180. 200.   0.   0.   0.   0.   0.   0.   0.]\n",
      " [180. 180. 180. 180. 200.   0.   0.   0.   0.   0.   0.   0.]\n",
      " [  0.   0.   0.   0.   0.   0.   0.   0.   0.   0.   0.   0.]\n",
      " [  0.   0.   0.   0.   0.   0.   0.   0.   0.   0.   0.   0.]\n",
      " [  0.   0.   0.   0.   0.   0.   0.   0.   0.   0.   0.   0.]\n",
      " [  0.   0.   0.   0.   0.   0.   0.   0.   0.   0.   0.   0.]]\n",
      "\n"
     ]
    }
   ],
   "source": [
    "for c in [1,2,3]:\n",
    "    dilutions.remove(dilutions.wells[0:4,c], 20, label='aspirating')\n",
    "    dilutions.add(dilutions.wells[0:4,c+1], 20, label='dispensing')\n",
    "    dilutions.add(dilutions.wells[0:4,c+1], 180, label='dilute 10x with water')\n",
    "    dilutions.condense_log(3)\n",
    "print(dilutions.report)"
   ]
  },
  {
   "cell_type": "markdown",
   "metadata": {},
   "source": [
    "You might have guessed that the story doesn't end here.\n",
    "\n",
    "The above example has shown how you can plan and debug pipetting steps _in silico_, but at this point you don't have a robot protocol yet.\n",
    "\n",
    "Proceed to `Evotools_AssayPreparation` to learn how you can create GWL-worklists on the fly."
   ]
  },
  {
   "cell_type": "code",
   "execution_count": null,
   "metadata": {},
   "outputs": [],
   "source": []
  }
 ],
 "metadata": {
  "kernelspec": {
   "display_name": "Python 3",
   "language": "python",
   "name": "python3"
  },
  "language_info": {
   "codemirror_mode": {
    "name": "ipython",
    "version": 3
   },
   "file_extension": ".py",
   "mimetype": "text/x-python",
   "name": "python",
   "nbconvert_exporter": "python",
   "pygments_lexer": "ipython3",
   "version": "3.6.8"
  }
 },
 "nbformat": 4,
 "nbformat_minor": 2
}
