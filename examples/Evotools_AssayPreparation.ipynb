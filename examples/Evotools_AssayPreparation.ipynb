{
 "cells": [
  {
   "cell_type": "markdown",
   "metadata": {},
   "source": [
    "# Assay Preparation\n",
    "This example shows how to generate a worklist for pipetting a simple assay."
   ]
  },
  {
   "cell_type": "code",
   "execution_count": 1,
   "metadata": {},
   "outputs": [],
   "source": [
    "%load_ext autoreload\n",
    "%autoreload 2\n",
    "\n",
    "import numpy\n",
    "\n",
    "from robotools import liquidhandling\n",
    "from robotools import evotools"
   ]
  },
  {
   "cell_type": "markdown",
   "metadata": {},
   "source": [
    "## Defining labwares\n",
    "We'll be pipetting an assay for 3x5 samples from a mastermix.\n",
    "\n",
    "It will also include a calibration curve of another 3x7."
   ]
  },
  {
   "cell_type": "code",
   "execution_count": 2,
   "metadata": {},
   "outputs": [
    {
     "name": "stdout",
     "output_type": "stream",
     "text": [
      "AssayPlate\n",
      "[[0. 0. 0. 0. 0. 0. 0. 0. 0. 0. 0. 0.]\n",
      " [0. 0. 0. 0. 0. 0. 0. 0. 0. 0. 0. 0.]\n",
      " [0. 0. 0. 0. 0. 0. 0. 0. 0. 0. 0. 0.]\n",
      " [0. 0. 0. 0. 0. 0. 0. 0. 0. 0. 0. 0.]\n",
      " [0. 0. 0. 0. 0. 0. 0. 0. 0. 0. 0. 0.]\n",
      " [0. 0. 0. 0. 0. 0. 0. 0. 0. 0. 0. 0.]\n",
      " [0. 0. 0. 0. 0. 0. 0. 0. 0. 0. 0. 0.]\n",
      " [0. 0. 0. 0. 0. 0. 0. 0. 0. 0. 0. 0.]]\n",
      "MasterMix\n",
      "[[10000.]]\n",
      "Samples\n",
      "[[200. 200. 200. 200. 200.   0.   0.   0.   0.   0.   0.   0.]\n",
      " [200. 200. 200. 200. 200.   0.   0.   0.   0.   0.   0.   0.]\n",
      " [200. 200. 200. 200. 200.   0.   0.   0.   0.   0.   0.   0.]\n",
      " [  0.   0.   0.   0.   0.   0.   0.   0.   0.   0.   0.   0.]\n",
      " [  0.   0.   0.   0.   0.   0.   0.   0.   0.   0.   0.   0.]\n",
      " [  0.   0.   0.   0.   0.   0.   0.   0.   0.   0.   0.   0.]\n",
      " [  0.   0.   0.   0.   0.   0.   0.   0.   0.   0.   0.   0.]\n",
      " [  0.   0.   0.   0.   0.   0.   0.   0.   0.   0.   0.   0.]]\n"
     ]
    }
   ],
   "source": [
    "# our assay is pipetted into a 96 well plate\n",
    "assay = liquidhandling.Labware('AssayPlate', 8, 12, 10, 250)\n",
    "\n",
    "# we have a trough with 10 ml of mastermix\n",
    "mastermix = liquidhandling.Labware('MasterMix', 1, 1,\n",
    "                min_volume=5000, max_volume=100*1000,\n",
    "                initial_volumes=10000, virtual_rows=8)\n",
    "\n",
    "# a 96-well plate with 200 µl samples in A01 to C05\n",
    "samples = liquidhandling.Labware('Samples', 8, 12, 10, 250)\n",
    "samples.add(samples.wells[:3,:5], 200, label='supernatants')\n",
    "\n",
    "print(assay)\n",
    "print(mastermix)\n",
    "print(samples)"
   ]
  },
  {
   "cell_type": "markdown",
   "metadata": {},
   "source": [
    "## Pipetting the assay\n",
    "Here, we're creating a GWL-worklist that can be given to the EVOware. It will prepare the 96-well assay plate with mastermix and transfer the samples.\n",
    "\n",
    "The `Worklist` implements almost all commands of EVOware worklists. For example, you can `decontaminate`, `wash`, `set_ditis`, or use `aspirate_well`/`dispense_well` to customize individual steps."
   ]
  },
  {
   "cell_type": "code",
   "execution_count": 3,
   "metadata": {},
   "outputs": [],
   "source": [
    "with evotools.Worklist() as wl:\n",
    "    wl.wash()\n",
    "    # put buffer into all wells\n",
    "    wl.transfer(\n",
    "        mastermix, mastermix.wells[:3,[0]*5],\n",
    "        assay, assay.wells[:3,:5],\n",
    "        50,\n",
    "        label='initial buffer'\n",
    "    )\n",
    "    \n",
    "    # add samples column by column, with wash steps inbetween\n",
    "    for c in range(5):\n",
    "        wl.wash()\n",
    "        wl.transfer(\n",
    "            samples, samples.wells[:3,c],\n",
    "            assay, assay.wells[:3,c],\n",
    "            10,\n",
    "            label=f'add samples from column {c+1}'\n",
    "        )\n",
    "    "
   ]
  },
  {
   "cell_type": "markdown",
   "metadata": {},
   "source": [
    "Our three labwares have been modified by the pipetting steps. We can inspect the history of the 96-well plate to check if we selected the right wells & volumes:"
   ]
  },
  {
   "cell_type": "code",
   "execution_count": 4,
   "metadata": {},
   "outputs": [
    {
     "name": "stdout",
     "output_type": "stream",
     "text": [
      "AssayPlate\n",
      "initial\n",
      "[[0. 0. 0. 0. 0. 0. 0. 0. 0. 0. 0. 0.]\n",
      " [0. 0. 0. 0. 0. 0. 0. 0. 0. 0. 0. 0.]\n",
      " [0. 0. 0. 0. 0. 0. 0. 0. 0. 0. 0. 0.]\n",
      " [0. 0. 0. 0. 0. 0. 0. 0. 0. 0. 0. 0.]\n",
      " [0. 0. 0. 0. 0. 0. 0. 0. 0. 0. 0. 0.]\n",
      " [0. 0. 0. 0. 0. 0. 0. 0. 0. 0. 0. 0.]\n",
      " [0. 0. 0. 0. 0. 0. 0. 0. 0. 0. 0. 0.]\n",
      " [0. 0. 0. 0. 0. 0. 0. 0. 0. 0. 0. 0.]]\n",
      "\n",
      "initial buffer\n",
      "[[50. 50. 50. 50. 50.  0.  0.  0.  0.  0.  0.  0.]\n",
      " [50. 50. 50. 50. 50.  0.  0.  0.  0.  0.  0.  0.]\n",
      " [50. 50. 50. 50. 50.  0.  0.  0.  0.  0.  0.  0.]\n",
      " [ 0.  0.  0.  0.  0.  0.  0.  0.  0.  0.  0.  0.]\n",
      " [ 0.  0.  0.  0.  0.  0.  0.  0.  0.  0.  0.  0.]\n",
      " [ 0.  0.  0.  0.  0.  0.  0.  0.  0.  0.  0.  0.]\n",
      " [ 0.  0.  0.  0.  0.  0.  0.  0.  0.  0.  0.  0.]\n",
      " [ 0.  0.  0.  0.  0.  0.  0.  0.  0.  0.  0.  0.]]\n",
      "\n",
      "add samples from column 1\n",
      "[[60. 50. 50. 50. 50.  0.  0.  0.  0.  0.  0.  0.]\n",
      " [60. 50. 50. 50. 50.  0.  0.  0.  0.  0.  0.  0.]\n",
      " [60. 50. 50. 50. 50.  0.  0.  0.  0.  0.  0.  0.]\n",
      " [ 0.  0.  0.  0.  0.  0.  0.  0.  0.  0.  0.  0.]\n",
      " [ 0.  0.  0.  0.  0.  0.  0.  0.  0.  0.  0.  0.]\n",
      " [ 0.  0.  0.  0.  0.  0.  0.  0.  0.  0.  0.  0.]\n",
      " [ 0.  0.  0.  0.  0.  0.  0.  0.  0.  0.  0.  0.]\n",
      " [ 0.  0.  0.  0.  0.  0.  0.  0.  0.  0.  0.  0.]]\n",
      "\n",
      "add samples from column 2\n",
      "[[60. 60. 50. 50. 50.  0.  0.  0.  0.  0.  0.  0.]\n",
      " [60. 60. 50. 50. 50.  0.  0.  0.  0.  0.  0.  0.]\n",
      " [60. 60. 50. 50. 50.  0.  0.  0.  0.  0.  0.  0.]\n",
      " [ 0.  0.  0.  0.  0.  0.  0.  0.  0.  0.  0.  0.]\n",
      " [ 0.  0.  0.  0.  0.  0.  0.  0.  0.  0.  0.  0.]\n",
      " [ 0.  0.  0.  0.  0.  0.  0.  0.  0.  0.  0.  0.]\n",
      " [ 0.  0.  0.  0.  0.  0.  0.  0.  0.  0.  0.  0.]\n",
      " [ 0.  0.  0.  0.  0.  0.  0.  0.  0.  0.  0.  0.]]\n",
      "\n",
      "add samples from column 3\n",
      "[[60. 60. 60. 50. 50.  0.  0.  0.  0.  0.  0.  0.]\n",
      " [60. 60. 60. 50. 50.  0.  0.  0.  0.  0.  0.  0.]\n",
      " [60. 60. 60. 50. 50.  0.  0.  0.  0.  0.  0.  0.]\n",
      " [ 0.  0.  0.  0.  0.  0.  0.  0.  0.  0.  0.  0.]\n",
      " [ 0.  0.  0.  0.  0.  0.  0.  0.  0.  0.  0.  0.]\n",
      " [ 0.  0.  0.  0.  0.  0.  0.  0.  0.  0.  0.  0.]\n",
      " [ 0.  0.  0.  0.  0.  0.  0.  0.  0.  0.  0.  0.]\n",
      " [ 0.  0.  0.  0.  0.  0.  0.  0.  0.  0.  0.  0.]]\n",
      "\n",
      "add samples from column 4\n",
      "[[60. 60. 60. 60. 50.  0.  0.  0.  0.  0.  0.  0.]\n",
      " [60. 60. 60. 60. 50.  0.  0.  0.  0.  0.  0.  0.]\n",
      " [60. 60. 60. 60. 50.  0.  0.  0.  0.  0.  0.  0.]\n",
      " [ 0.  0.  0.  0.  0.  0.  0.  0.  0.  0.  0.  0.]\n",
      " [ 0.  0.  0.  0.  0.  0.  0.  0.  0.  0.  0.  0.]\n",
      " [ 0.  0.  0.  0.  0.  0.  0.  0.  0.  0.  0.  0.]\n",
      " [ 0.  0.  0.  0.  0.  0.  0.  0.  0.  0.  0.  0.]\n",
      " [ 0.  0.  0.  0.  0.  0.  0.  0.  0.  0.  0.  0.]]\n",
      "\n",
      "add samples from column 5\n",
      "[[60. 60. 60. 60. 60.  0.  0.  0.  0.  0.  0.  0.]\n",
      " [60. 60. 60. 60. 60.  0.  0.  0.  0.  0.  0.  0.]\n",
      " [60. 60. 60. 60. 60.  0.  0.  0.  0.  0.  0.  0.]\n",
      " [ 0.  0.  0.  0.  0.  0.  0.  0.  0.  0.  0.  0.]\n",
      " [ 0.  0.  0.  0.  0.  0.  0.  0.  0.  0.  0.  0.]\n",
      " [ 0.  0.  0.  0.  0.  0.  0.  0.  0.  0.  0.  0.]\n",
      " [ 0.  0.  0.  0.  0.  0.  0.  0.  0.  0.  0.  0.]\n",
      " [ 0.  0.  0.  0.  0.  0.  0.  0.  0.  0.  0.  0.]]\n",
      "\n"
     ]
    }
   ],
   "source": [
    "print(assay.report)"
   ]
  },
  {
   "cell_type": "markdown",
   "metadata": {},
   "source": [
    "## Inspecting the result\n",
    "Relevant for the robot is just the worklist, which is merely a list of all individual aspirate/dispense/wash/... steps.\n",
    "\n",
    "Note that it includes the `label`s as comments."
   ]
  },
  {
   "cell_type": "code",
   "execution_count": 5,
   "metadata": {
    "scrolled": false
   },
   "outputs": [
    {
     "data": {
      "text/plain": [
       "W1;\n",
       "C;initial buffer\n",
       "A;MasterMix;;;1;;50.00;;;;\n",
       "D;AssayPlate;;;1;;50.00;;;;\n",
       "A;MasterMix;;;2;;50.00;;;;\n",
       "D;AssayPlate;;;2;;50.00;;;;\n",
       "A;MasterMix;;;3;;50.00;;;;\n",
       "D;AssayPlate;;;3;;50.00;;;;\n",
       "A;MasterMix;;;1;;50.00;;;;\n",
       "D;AssayPlate;;;9;;50.00;;;;\n",
       "A;MasterMix;;;2;;50.00;;;;\n",
       "D;AssayPlate;;;10;;50.00;;;;\n",
       "A;MasterMix;;;3;;50.00;;;;\n",
       "D;AssayPlate;;;11;;50.00;;;;\n",
       "A;MasterMix;;;1;;50.00;;;;\n",
       "D;AssayPlate;;;17;;50.00;;;;\n",
       "A;MasterMix;;;2;;50.00;;;;\n",
       "D;AssayPlate;;;18;;50.00;;;;\n",
       "A;MasterMix;;;3;;50.00;;;;\n",
       "D;AssayPlate;;;19;;50.00;;;;\n",
       "A;MasterMix;;;1;;50.00;;;;\n",
       "D;AssayPlate;;;25;;50.00;;;;\n",
       "A;MasterMix;;;2;;50.00;;;;\n",
       "D;AssayPlate;;;26;;50.00;;;;\n",
       "A;MasterMix;;;3;;50.00;;;;\n",
       "D;AssayPlate;;;27;;50.00;;;;\n",
       "A;MasterMix;;;1;;50.00;;;;\n",
       "D;AssayPlate;;;33;;50.00;;;;\n",
       "A;MasterMix;;;2;;50.00;;;;\n",
       "D;AssayPlate;;;34;;50.00;;;;\n",
       "A;MasterMix;;;3;;50.00;;;;\n",
       "D;AssayPlate;;;35;;50.00;;;;\n",
       "W1;\n",
       "C;add samples from column 1\n",
       "A;Samples;;;1;;10.00;;;;\n",
       "D;AssayPlate;;;1;;10.00;;;;\n",
       "A;Samples;;;2;;10.00;;;;\n",
       "D;AssayPlate;;;2;;10.00;;;;\n",
       "A;Samples;;;3;;10.00;;;;\n",
       "D;AssayPlate;;;3;;10.00;;;;\n",
       "W1;\n",
       "C;add samples from column 2\n",
       "A;Samples;;;9;;10.00;;;;\n",
       "D;AssayPlate;;;9;;10.00;;;;\n",
       "A;Samples;;;10;;10.00;;;;\n",
       "D;AssayPlate;;;10;;10.00;;;;\n",
       "A;Samples;;;11;;10.00;;;;\n",
       "D;AssayPlate;;;11;;10.00;;;;\n",
       "W1;\n",
       "C;add samples from column 3\n",
       "A;Samples;;;17;;10.00;;;;\n",
       "D;AssayPlate;;;17;;10.00;;;;\n",
       "A;Samples;;;18;;10.00;;;;\n",
       "D;AssayPlate;;;18;;10.00;;;;\n",
       "A;Samples;;;19;;10.00;;;;\n",
       "D;AssayPlate;;;19;;10.00;;;;\n",
       "W1;\n",
       "C;add samples from column 4\n",
       "A;Samples;;;25;;10.00;;;;\n",
       "D;AssayPlate;;;25;;10.00;;;;\n",
       "A;Samples;;;26;;10.00;;;;\n",
       "D;AssayPlate;;;26;;10.00;;;;\n",
       "A;Samples;;;27;;10.00;;;;\n",
       "D;AssayPlate;;;27;;10.00;;;;\n",
       "W1;\n",
       "C;add samples from column 5\n",
       "A;Samples;;;33;;10.00;;;;\n",
       "D;AssayPlate;;;33;;10.00;;;;\n",
       "A;Samples;;;34;;10.00;;;;\n",
       "D;AssayPlate;;;34;;10.00;;;;\n",
       "A;Samples;;;35;;10.00;;;;\n",
       "D;AssayPlate;;;35;;10.00;;;;"
      ]
     },
     "execution_count": 5,
     "metadata": {},
     "output_type": "execute_result"
    }
   ],
   "source": [
    "wl"
   ]
  },
  {
   "cell_type": "code",
   "execution_count": null,
   "metadata": {},
   "outputs": [],
   "source": []
  }
 ],
 "metadata": {
  "kernelspec": {
   "display_name": "Python 3",
   "language": "python",
   "name": "python3"
  },
  "language_info": {
   "codemirror_mode": {
    "name": "ipython",
    "version": 3
   },
   "file_extension": ".py",
   "mimetype": "text/x-python",
   "name": "python",
   "nbconvert_exporter": "python",
   "pygments_lexer": "ipython3",
   "version": "3.6.8"
  }
 },
 "nbformat": 4,
 "nbformat_minor": 2
}
