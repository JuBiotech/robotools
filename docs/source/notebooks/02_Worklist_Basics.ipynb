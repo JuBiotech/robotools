{
 "cells": [
  {
   "cell_type": "markdown",
   "metadata": {},
   "source": [
    "# `Worklist` Basics\n",
    "The most flexible way to give pipetting instructions to the Tecan EVO or Fluent are Gemini worklist files (`*.gwl`).\n",
    "\n",
    "A simple worklist might look like this:\n",
    "\n",
    "```\n",
    "W1;\n",
    "A;MasterMix;;;1;;50.00;;;;\n",
    "D;AssayPlate;;;1;;50.00;;;;\n",
    "W1;\n",
    "A;MasterMix;;;2;;50.00;;;;\n",
    "D;AssayPlate;;;2;;50.00;;;;\n",
    "```\n",
    "\n",
    "Between the `;`, the EVOware or Fluent Control accept various parameters such as the _liquid class_ or _rack type_.\n",
    "As you might guess from the above example you don't want to write such worklist files by hand.\n",
    "\n",
    "Instead, `robotools` can write these worklists for you!\n",
    "\n",
    "This is typically done with a robot-specific subtype of `BaseWorklist`.\n",
    "\n",
    "```{mermaid}\n",
    "classDiagram\n",
    "    BaseWorklist <|-- EvoWorklist\n",
    "    BaseWorklist <|-- FluentWorklist\n",
    "    class BaseWorklist{\n",
    "      filepath : Optional[Path]\n",
    "      save()\n",
    "      comment()\n",
    "      wash()\n",
    "      transfer()*\n",
    "    }\n",
    "    class EvoWorklist{\n",
    "      - transfer()\n",
    "      - evo_aspirate()\n",
    "      - evo_dispense()\n",
    "    }\n",
    "    class FluentWorklist{\n",
    "      - transfer()\n",
    "    }\n",
    "```\n",
    "\n",
    "The `BaseWorklist` classes are [context managers](https://book.pythontips.com/en/latest/context_managers.html) that automatically creates a worklist with the commands corresponding to the methods you are calling.\n",
    "\n",
    "Let's see an example 👇"
   ]
  },
  {
   "cell_type": "code",
   "execution_count": 1,
   "metadata": {
    "execution": {
     "iopub.execute_input": "2023-03-17T19:35:18.468297Z",
     "iopub.status.busy": "2023-03-17T19:35:18.466255Z",
     "iopub.status.idle": "2023-03-17T19:35:18.765753Z",
     "shell.execute_reply": "2023-03-17T19:35:18.764749Z"
    }
   },
   "outputs": [],
   "source": [
    "import robotools"
   ]
  },
  {
   "cell_type": "markdown",
   "metadata": {},
   "source": [
    "## Labware Definition\n",
    "\n",
    "Let's say we are writing a simple assay procedure where samples and mastermix are combined in an MTP."
   ]
  },
  {
   "cell_type": "code",
   "execution_count": 2,
   "metadata": {
    "execution": {
     "iopub.execute_input": "2023-03-17T19:35:18.769748Z",
     "iopub.status.busy": "2023-03-17T19:35:18.769748Z",
     "iopub.status.idle": "2023-03-17T19:35:18.780750Z",
     "shell.execute_reply": "2023-03-17T19:35:18.779750Z"
    }
   },
   "outputs": [
    {
     "name": "stdout",
     "output_type": "stream",
     "text": [
      "Samples\n",
      "[[500.]\n",
      " [500.]\n",
      " [500.]\n",
      " [500.]\n",
      " [500.]\n",
      " [500.]]\n",
      "AssayMTP\n",
      "[[0. 0. 0. 0. 0. 0. 0. 0. 0. 0. 0. 0.]\n",
      " [0. 0. 0. 0. 0. 0. 0. 0. 0. 0. 0. 0.]\n",
      " [0. 0. 0. 0. 0. 0. 0. 0. 0. 0. 0. 0.]\n",
      " [0. 0. 0. 0. 0. 0. 0. 0. 0. 0. 0. 0.]\n",
      " [0. 0. 0. 0. 0. 0. 0. 0. 0. 0. 0. 0.]\n",
      " [0. 0. 0. 0. 0. 0. 0. 0. 0. 0. 0. 0.]\n",
      " [0. 0. 0. 0. 0. 0. 0. 0. 0. 0. 0. 0.]\n",
      " [0. 0. 0. 0. 0. 0. 0. 0. 0. 0. 0. 0.]]\n",
      "MasterMix\n",
      "[[10000.]]\n"
     ]
    }
   ],
   "source": [
    "# Let's say we have 6 1.5 mL Eppis with 500 µL sample each.\n",
    "samples = robotools.Labware(\"Samples\", 6, 1, min_volume=20, max_volume=1500, initial_volumes=500)\n",
    "\n",
    "# We want to run an assay in a microtiterplate\n",
    "assay = robotools.Labware(\"AssayMTP\", 8, 12, min_volume=30, max_volume=300)\n",
    "\n",
    "# We have a trough with assay mastermix\n",
    "mastermix = robotools.Trough(\"MasterMix\", 8, 1, min_volume=5000, max_volume=25_000, initial_volumes=10_000)\n",
    "\n",
    "# To inspect the initial volumes:\n",
    "print(samples)\n",
    "print(assay)\n",
    "print(mastermix)"
   ]
  },
  {
   "cell_type": "markdown",
   "metadata": {},
   "source": [
    "## Choosing the Worklist Type\n",
    "\n",
    "As shown above, there are three worklist classes, with `BaseWorklist` being the generic one, and `EvoWorklist`/`FluentWorklist` featuring slightly different APIs.\n",
    "\n",
    "Notable differences between `EvoWorklist` and `FluentWorklist` are:\n",
    "\n",
    "* `EvoWorklist` also has `evo_wash()`, `evo_aspirate()` and `evo_dispense()` methods.\n",
    "* Numbering of trough wells in the generated worklist commands accounts for EVO/Fluent differences.\n",
    "\n",
    "## Writing a Worklist\n",
    "\n",
    "The `BaseWorklist` has a ton of methods that are available with both `EvoWorklist` and `FluentWorklist`.\n",
    "It doesn't make sense to list them all here, but you can use `help(robotools.BaseWorklist)` or look them up in the documentation.\n",
    "\n",
    "The most commonly used method is `.transfer()`:"
   ]
  },
  {
   "cell_type": "code",
   "execution_count": 3,
   "metadata": {
    "execution": {
     "iopub.execute_input": "2023-03-17T19:35:18.825746Z",
     "iopub.status.busy": "2023-03-17T19:35:18.825746Z",
     "iopub.status.idle": "2023-03-17T19:35:18.846755Z",
     "shell.execute_reply": "2023-03-17T19:35:18.842750Z"
    }
   },
   "outputs": [
    {
     "name": "stdout",
     "output_type": "stream",
     "text": [
      "Help on function transfer in module robotools.evotools.worklist:\n",
      "\n",
      "transfer(self, source: robotools.liquidhandling.labware.Labware, source_wells: Union[str, Sequence[str], numpy.ndarray], destination: robotools.liquidhandling.labware.Labware, destination_wells: Union[str, Sequence[str], numpy.ndarray], volumes: Union[float, Sequence[float], numpy.ndarray], *, label: Optional[str] = None, wash_scheme: int = 1, partition_by: str = 'auto', **kwargs) -> None\n",
      "    Transfer operation between two labwares.\n",
      "    \n",
      "    Parameters\n",
      "    ----------\n",
      "    source : liquidhandling.Labware\n",
      "        Source labware\n",
      "    source_wells : str or iterable\n",
      "        List of source well ids\n",
      "    destination : liquidhandling.Labware\n",
      "        Destination labware\n",
      "    destination_wells : str or iterable\n",
      "        List of destination well ids\n",
      "    volumes : float or iterable\n",
      "        Volume(s) to transfer\n",
      "    label : str\n",
      "        Label of the operation to log into labware history\n",
      "    wash_scheme : int\n",
      "        Wash scheme to apply after every tip use\n",
      "    partition_by : str\n",
      "        one of 'auto' (default), 'source' or 'destination'\n",
      "            'auto': partitioning by source unless the source is a Trough\n",
      "            'source': partitioning by source columns\n",
      "            'destination': partitioning by destination columns\n",
      "    kwargs\n",
      "        Additional keyword arguments to pass to aspirate and dispense.\n",
      "        Most prominent example: `liquid_class`.\n",
      "        Take a look at `Worklist.aspirate_well` for the full list of options.\n",
      "\n"
     ]
    }
   ],
   "source": [
    "help(robotools.EvoWorklist.transfer)"
   ]
  },
  {
   "cell_type": "markdown",
   "metadata": {},
   "source": [
    "The worklist is created by entering its context manager.\n",
    "\n",
    "We can optionally pass a file path and it will automatically write the worklist to that file when leaving the context."
   ]
  },
  {
   "cell_type": "code",
   "execution_count": 4,
   "metadata": {
    "execution": {
     "iopub.execute_input": "2023-03-17T19:35:18.857757Z",
     "iopub.status.busy": "2023-03-17T19:35:18.856759Z",
     "iopub.status.idle": "2023-03-17T19:35:18.889746Z",
     "shell.execute_reply": "2023-03-17T19:35:18.889746Z"
    }
   },
   "outputs": [],
   "source": [
    "n_samples = samples.n_rows\n",
    "n_replicates = 3\n",
    "\n",
    "with robotools.EvoWorklist(\"02_assay.gwl\") as wl:\n",
    "    wl.wash()\n",
    "    # Add triplicates of the samples\n",
    "    for r in range(n_replicates):\n",
    "        wl.transfer(\n",
    "            samples, samples.wells,\n",
    "            assay, assay.wells[:n_samples, r],\n",
    "            10,\n",
    "            label=f\"Add replicate {r+1} samples\",\n",
    "        )\n",
    "    \n",
    "    # Select trough wells to aspirate from\n",
    "    trough_wells = robotools.get_trough_wells(\n",
    "        n=n_samples*n_replicates,\n",
    "        trough_wells=mastermix.wells[:,0],\n",
    "    )\n",
    "    \n",
    "    # Add buffer to all wells\n",
    "    wl.transfer(\n",
    "        mastermix, trough_wells,\n",
    "        assay, assay.wells[:n_samples,:n_replicates],\n",
    "        50,\n",
    "        label=\"Add mastermix\",\n",
    "    )"
   ]
  },
  {
   "cell_type": "markdown",
   "metadata": {},
   "source": [
    "Our three labwares were modified by the pipetting steps. We can inspect the history of the 96-well plate to check if we selected the right wells & volumes:"
   ]
  },
  {
   "cell_type": "code",
   "execution_count": 5,
   "metadata": {
    "execution": {
     "iopub.execute_input": "2023-03-17T19:35:18.892745Z",
     "iopub.status.busy": "2023-03-17T19:35:18.892745Z",
     "iopub.status.idle": "2023-03-17T19:35:18.904744Z",
     "shell.execute_reply": "2023-03-17T19:35:18.904744Z"
    }
   },
   "outputs": [
    {
     "name": "stdout",
     "output_type": "stream",
     "text": [
      "AssayMTP\n",
      "initial\n",
      "[[0. 0. 0. 0. 0. 0. 0. 0. 0. 0. 0. 0.]\n",
      " [0. 0. 0. 0. 0. 0. 0. 0. 0. 0. 0. 0.]\n",
      " [0. 0. 0. 0. 0. 0. 0. 0. 0. 0. 0. 0.]\n",
      " [0. 0. 0. 0. 0. 0. 0. 0. 0. 0. 0. 0.]\n",
      " [0. 0. 0. 0. 0. 0. 0. 0. 0. 0. 0. 0.]\n",
      " [0. 0. 0. 0. 0. 0. 0. 0. 0. 0. 0. 0.]\n",
      " [0. 0. 0. 0. 0. 0. 0. 0. 0. 0. 0. 0.]\n",
      " [0. 0. 0. 0. 0. 0. 0. 0. 0. 0. 0. 0.]]\n",
      "\n",
      "Add replicate 1 samples\n",
      "[[10.  0.  0.  0.  0.  0.  0.  0.  0.  0.  0.  0.]\n",
      " [10.  0.  0.  0.  0.  0.  0.  0.  0.  0.  0.  0.]\n",
      " [10.  0.  0.  0.  0.  0.  0.  0.  0.  0.  0.  0.]\n",
      " [10.  0.  0.  0.  0.  0.  0.  0.  0.  0.  0.  0.]\n",
      " [10.  0.  0.  0.  0.  0.  0.  0.  0.  0.  0.  0.]\n",
      " [10.  0.  0.  0.  0.  0.  0.  0.  0.  0.  0.  0.]\n",
      " [ 0.  0.  0.  0.  0.  0.  0.  0.  0.  0.  0.  0.]\n",
      " [ 0.  0.  0.  0.  0.  0.  0.  0.  0.  0.  0.  0.]]\n",
      "\n",
      "Add replicate 2 samples\n",
      "[[10. 10.  0.  0.  0.  0.  0.  0.  0.  0.  0.  0.]\n",
      " [10. 10.  0.  0.  0.  0.  0.  0.  0.  0.  0.  0.]\n",
      " [10. 10.  0.  0.  0.  0.  0.  0.  0.  0.  0.  0.]\n",
      " [10. 10.  0.  0.  0.  0.  0.  0.  0.  0.  0.  0.]\n",
      " [10. 10.  0.  0.  0.  0.  0.  0.  0.  0.  0.  0.]\n",
      " [10. 10.  0.  0.  0.  0.  0.  0.  0.  0.  0.  0.]\n",
      " [ 0.  0.  0.  0.  0.  0.  0.  0.  0.  0.  0.  0.]\n",
      " [ 0.  0.  0.  0.  0.  0.  0.  0.  0.  0.  0.  0.]]\n",
      "\n",
      "Add replicate 3 samples\n",
      "[[10. 10. 10.  0.  0.  0.  0.  0.  0.  0.  0.  0.]\n",
      " [10. 10. 10.  0.  0.  0.  0.  0.  0.  0.  0.  0.]\n",
      " [10. 10. 10.  0.  0.  0.  0.  0.  0.  0.  0.  0.]\n",
      " [10. 10. 10.  0.  0.  0.  0.  0.  0.  0.  0.  0.]\n",
      " [10. 10. 10.  0.  0.  0.  0.  0.  0.  0.  0.  0.]\n",
      " [10. 10. 10.  0.  0.  0.  0.  0.  0.  0.  0.  0.]\n",
      " [ 0.  0.  0.  0.  0.  0.  0.  0.  0.  0.  0.  0.]\n",
      " [ 0.  0.  0.  0.  0.  0.  0.  0.  0.  0.  0.  0.]]\n",
      "\n",
      "Add mastermix\n",
      "[[60. 60. 60.  0.  0.  0.  0.  0.  0.  0.  0.  0.]\n",
      " [60. 60. 60.  0.  0.  0.  0.  0.  0.  0.  0.  0.]\n",
      " [60. 60. 60.  0.  0.  0.  0.  0.  0.  0.  0.  0.]\n",
      " [60. 60. 60.  0.  0.  0.  0.  0.  0.  0.  0.  0.]\n",
      " [60. 60. 60.  0.  0.  0.  0.  0.  0.  0.  0.  0.]\n",
      " [60. 60. 60.  0.  0.  0.  0.  0.  0.  0.  0.  0.]\n",
      " [ 0.  0.  0.  0.  0.  0.  0.  0.  0.  0.  0.  0.]\n",
      " [ 0.  0.  0.  0.  0.  0.  0.  0.  0.  0.  0.  0.]]\n",
      "\n"
     ]
    }
   ],
   "source": [
    "print(assay.report)"
   ]
  },
  {
   "cell_type": "markdown",
   "metadata": {},
   "source": [
    "If a `filepath` was passed, the worklist automatically writes worklist (`wl`) to it, overwriting any previous content.\n",
    "\n",
    "```python\n",
    "with Worklist(filepath=...) as wl:\n",
    "    ...\n",
    "```\n",
    "\n",
    "Note that it includes the `label`s as comments."
   ]
  },
  {
   "cell_type": "code",
   "execution_count": 6,
   "metadata": {
    "execution": {
     "iopub.execute_input": "2023-03-17T19:35:18.907746Z",
     "iopub.status.busy": "2023-03-17T19:35:18.907746Z",
     "iopub.status.idle": "2023-03-17T19:35:18.920748Z",
     "shell.execute_reply": "2023-03-17T19:35:18.919747Z"
    },
    "scrolled": false
   },
   "outputs": [
    {
     "name": "stdout",
     "output_type": "stream",
     "text": [
      "W1;\n",
      "C;Add replicate 1 samples\n",
      "A;Samples;;;1;;10.00;;;;\n",
      "D;AssayMTP;;;1;;10.00;;;;\n",
      "W1;\n",
      "A;Samples;;;2;;10.00;;;;\n",
      "D;AssayMTP;;;2;;10.00;;;;\n",
      "W1;\n",
      "A;Samples;;;3;;10.00;;;;\n",
      "D;AssayMTP;;;3;;10.00;;;;\n",
      "W1;\n",
      "A;Samples;;;4;;10.00;;;;\n",
      "D;AssayMTP;;;4;;10.00;;;;\n",
      "W1;\n",
      "A;Samples;;;5;;10.00;;;;\n",
      "D;AssayMTP;;;5;;10.00;;;;\n",
      "W1;\n",
      "A;Samples;;;6;;10.00;;;;\n",
      "D;AssayMTP;;;6;;10.00;;;;\n",
      "W1;\n",
      "C;Add replicate 2 samples\n",
      "A;Samples;;;1;;10.00;;;;\n",
      "D;AssayMTP;;;9;;10.00;;;;\n",
      "W1;\n",
      "A;Samples;;;2;;10.00;;;;\n",
      "D;AssayMTP;;;10;;10.00;;;;\n",
      "W1;\n",
      "A;Samples;;;3;;10.00;;;;\n",
      "D;AssayMTP;;;11;;10.00;;;;\n",
      "W1;\n",
      "A;Samples;;;4;;10.00;;;;\n",
      "D;AssayMTP;;;12;;10.00;;;;\n",
      "W1;\n",
      "A;Samples;;;5;;10.00;;;;\n",
      "D;AssayMTP;;;13;;10.00;;;;\n",
      "W1;\n",
      "A;Samples;;;6;;10.00;;;;\n",
      "D;AssayMTP;;;14;;10.00;;;;\n",
      "W1;\n",
      "C;Add replicate 3 samples\n",
      "A;Samples;;;1;;10.00;;;;\n",
      "D;AssayMTP;;;17;;10.00;;;;\n",
      "W1;\n",
      "A;Samples;;;2;;10.00;;;;\n",
      "D;AssayMTP;;;18;;10.00;;;;\n",
      "W1;\n",
      "A;Samples;;;3;;10.00;;;;\n",
      "D;AssayMTP;;;19;;10.00;;;;\n",
      "W1;\n",
      "A;Samples;;;4;;10.00;;;;\n",
      "D;AssayMTP;;;20;;10.00;;;;\n",
      "W1;\n",
      "A;Samples;;;5;;10.00;;;;\n",
      "D;AssayMTP;;;21;;10.00;;;;\n",
      "W1;\n",
      "A;Samples;;;6;;10.00;;;;\n",
      "D;AssayMTP;;;22;;10.00;;;;\n",
      "W1;\n",
      "C;Add mastermix\n",
      "A;MasterMix;;;1;;50.00;;;;\n",
      "D;AssayMTP;;;1;;50.00;;;;\n",
      "W1;\n",
      "A;MasterMix;;;2;;50.00;;;;\n",
      "D;AssayMTP;;;2;;50.00;;;;\n",
      "W1;\n",
      "A;MasterMix;;;3;;50.00;;;;\n",
      "D;AssayMTP;;;3;;50.00;;;;\n",
      "W1;\n",
      "A;MasterMix;;;4;;50.00;;;;\n",
      "D;AssayMTP;;;4;;50.00;;;;\n",
      "W1;\n",
      "A;MasterMix;;;5;;50.00;;;;\n",
      "D;AssayMTP;;;5;;50.00;;;;\n",
      "W1;\n",
      "A;MasterMix;;;6;;50.00;;;;\n",
      "D;AssayMTP;;;6;;50.00;;;;\n",
      "W1;\n",
      "A;MasterMix;;;7;;50.00;;;;\n",
      "D;AssayMTP;;;9;;50.00;;;;\n",
      "W1;\n",
      "A;MasterMix;;;8;;50.00;;;;\n",
      "D;AssayMTP;;;10;;50.00;;;;\n",
      "W1;\n",
      "A;MasterMix;;;1;;50.00;;;;\n",
      "D;AssayMTP;;;11;;50.00;;;;\n",
      "W1;\n",
      "A;MasterMix;;;2;;50.00;;;;\n",
      "D;AssayMTP;;;12;;50.00;;;;\n",
      "W1;\n",
      "A;MasterMix;;;3;;50.00;;;;\n",
      "D;AssayMTP;;;13;;50.00;;;;\n",
      "W1;\n",
      "A;MasterMix;;;4;;50.00;;;;\n",
      "D;AssayMTP;;;14;;50.00;;;;\n",
      "W1;\n",
      "A;MasterMix;;;5;;50.00;;;;\n",
      "D;AssayMTP;;;17;;50.00;;;;\n",
      "W1;\n",
      "A;MasterMix;;;6;;50.00;;;;\n",
      "D;AssayMTP;;;18;;50.00;;;;\n",
      "W1;\n",
      "A;MasterMix;;;7;;50.00;;;;\n",
      "D;AssayMTP;;;19;;50.00;;;;\n",
      "W1;\n",
      "A;MasterMix;;;8;;50.00;;;;\n",
      "D;AssayMTP;;;20;;50.00;;;;\n",
      "W1;\n",
      "A;MasterMix;;;1;;50.00;;;;\n",
      "D;AssayMTP;;;21;;50.00;;;;\n",
      "W1;\n",
      "A;MasterMix;;;2;;50.00;;;;\n",
      "D;AssayMTP;;;22;;50.00;;;;\n",
      "W1;\n"
     ]
    }
   ],
   "source": [
    "with open(\"02_assay.gwl\") as wlfile:\n",
    "    print(wlfile.read())"
   ]
  },
  {
   "cell_type": "code",
   "execution_count": 7,
   "metadata": {},
   "outputs": [
    {
     "name": "stdout",
     "output_type": "stream",
     "text": [
      "Last updated: 2024-04-23T15:21:04.769387+02:00\n",
      "\n"
     ]
    }
   ],
   "source": [
    "%load_ext watermark\n",
    "%watermark -idu"
   ]
  }
 ],
 "metadata": {
  "kernelspec": {
   "display_name": "Python 3",
   "language": "python",
   "name": "python3"
  },
  "language_info": {
   "codemirror_mode": {
    "name": "ipython",
    "version": 3
   },
   "file_extension": ".py",
   "mimetype": "text/x-python",
   "name": "python",
   "nbconvert_exporter": "python",
   "pygments_lexer": "ipython3",
   "version": "3.10.8"
  }
 },
 "nbformat": 4,
 "nbformat_minor": 2
}
