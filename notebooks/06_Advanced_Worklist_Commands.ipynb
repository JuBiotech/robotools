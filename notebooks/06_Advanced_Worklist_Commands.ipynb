{
 "cells": [
  {
   "cell_type": "markdown",
   "metadata": {},
   "source": [
    "# Advanced Worklist Commands\n",
    "`robotools` supports all features of the EVOware worklist file format.\n",
    "\n",
    "For example, you can `decontaminate`, `wash`, `set_ditis`, or use `aspirate_well`/`dispense_well` to customize individual steps."
   ]
  },
  {
   "cell_type": "code",
   "execution_count": 1,
   "metadata": {
    "execution": {
     "iopub.execute_input": "2023-03-17T20:03:36.185124Z",
     "iopub.status.busy": "2023-03-17T20:03:36.184122Z",
     "iopub.status.idle": "2023-03-17T20:03:37.152708Z",
     "shell.execute_reply": "2023-03-17T20:03:37.151701Z"
    }
   },
   "outputs": [
    {
     "name": "stdout",
     "output_type": "stream",
     "text": [
      "96-well plate\n",
      "[[40. 40. 10. 10.  0.  0.  0.  0.  0.  0.  0.  0.]\n",
      " [ 0.  0.  0.  0.  0.  0.  0.  0.  0.  0.  0.  0.]\n",
      " [ 0.  0.  0.  0.  0.  0.  0.  0.  0.  0.  0.  0.]\n",
      " [ 0.  0.  0.  0.  0.  0.  0.  0.  0.  0.  0.  0.]\n",
      " [ 0.  0.  0.  0.  0.  0.  0.  0.  0.  0.  0.  0.]\n",
      " [ 0.  0.  0.  0.  0.  0.  0.  0.  0.  0.  0.  0.]\n",
      " [ 0.  0.  0.  0.  0.  0.  0.  0.  0.  0.  0.  0.]\n",
      " [ 0.  0.  0.  0.  0.  0.  0.  0.  0.  0.  0.  0.]]\n",
      "C;We can add multiline-comments about our wash procedure:\n",
      "C;Washing scheme 3 (defined in the EVOware) is used.\n",
      "W3;\n",
      "A;Systemliquid;;System;1;;100.00;;;;\n",
      "D;96-well plate;;;1;;100.00;;;;\n",
      "WD;\n",
      "C;One-to-many transfer from A01 to A02-A04\n",
      "A;96-well plate;;;1;;10.00;MyAwesomeLiquidClass;;;\n",
      "D;96-well plate;;;9;;10.00;MyAwesomeLiquidClass;;;\n",
      "W1;\n",
      "A;96-well plate;;;1;;10.00;MyAwesomeLiquidClass;;;\n",
      "D;96-well plate;;;17;;10.00;MyAwesomeLiquidClass;;;\n",
      "W1;\n",
      "A;96-well plate;;;1;;10.00;MyAwesomeLiquidClass;;;\n",
      "D;96-well plate;;;25;;10.00;MyAwesomeLiquidClass;;;\n",
      "W1;\n",
      "C;Using tips 2/3/4\n",
      "A;96-well plate;;;1;;10.00;;;2;\n",
      "D;96-well plate;;;9;;10.00;;;2;\n",
      "W1;\n",
      "A;96-well plate;;;1;;10.00;;;4;\n",
      "D;96-well plate;;;9;;10.00;;;4;\n",
      "W1;\n",
      "A;96-well plate;;;1;;10.00;;;8;\n",
      "D;96-well plate;;;9;;10.00;;;8;\n",
      "W1;\n"
     ]
    }
   ],
   "source": [
    "import numpy\n",
    "import robotools\n",
    "\n",
    "plate = robotools.Labware('96-well plate', 8, 12, min_volume=10, max_volume=250)\n",
    "\n",
    "with robotools.Worklist() as wl:\n",
    "    wl.comment(\"\"\"\n",
    "    We can add multiline-comments about our wash procedure:\n",
    "    Washing scheme 3 (defined in the EVOware) is used.\n",
    "    \"\"\")\n",
    "    wl.wash(scheme=3)\n",
    "    \n",
    "    # pipetting system liquid into A01\n",
    "    wl.aspirate_well(robotools.Labwares.SystemLiquid, position=1, volume=100, rack_type='System')\n",
    "    wl.dispense(plate, 'A01', 100)\n",
    "    \n",
    "    wl.decontaminate()\n",
    "    \n",
    "    wl.comment('One-to-many transfer from A01 to A02-A04')\n",
    "    wl.transfer(\n",
    "        plate, 'A01',\n",
    "        plate, ['A02', 'A03', 'A04'],\n",
    "        volumes=10,\n",
    "        liquid_class='MyAwesomeLiquidClass'\n",
    "    )\n",
    "    \n",
    "    wl.comment('Using tips 2/3/4')\n",
    "    wl.transfer(plate, 'A01', plate, 'A02', volumes=10, tip=robotools.Tip.T2)\n",
    "    wl.transfer(plate, 'A01', plate, 'A02', volumes=10, tip=3)\n",
    "    wl.transfer(plate, 'A01', plate, 'A02', volumes=10, tip=4)\n",
    "    \n",
    "print(plate)\n",
    "print(wl)"
   ]
  },
  {
   "cell_type": "code",
   "execution_count": null,
   "metadata": {},
   "outputs": [],
   "source": []
  }
 ],
 "metadata": {
  "kernelspec": {
   "display_name": "Python 3",
   "language": "python",
   "name": "python3"
  },
  "language_info": {
   "codemirror_mode": {
    "name": "ipython",
    "version": 3
   },
   "file_extension": ".py",
   "mimetype": "text/x-python",
   "name": "python",
   "nbconvert_exporter": "python",
   "pygments_lexer": "ipython3",
   "version": "3.8.16"
  }
 },
 "nbformat": 4,
 "nbformat_minor": 2
}
