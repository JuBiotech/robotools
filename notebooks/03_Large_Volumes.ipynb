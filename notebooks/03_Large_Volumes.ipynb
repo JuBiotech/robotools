{
 "cells": [
  {
   "cell_type": "markdown",
   "metadata": {},
   "source": [
    "# Large Volume Handling\n",
    "Pipetting robots have a maximum pipetting volume that they hand transfer in one step.\n",
    "At the same time their software (including the EVOware) requires the user to break down liquid transfers that exceed this volume into smaller steps.\n",
    "\n",
    "This example shows how `robotools` automagically splits up large volumes, so you can create complex workflows without bothering about large volume handling."
   ]
  },
  {
   "cell_type": "code",
   "execution_count": 1,
   "metadata": {},
   "outputs": [],
   "source": [
    "import robotools"
   ]
  },
  {
   "cell_type": "markdown",
   "metadata": {},
   "source": [
    "## Defining labwares\n",
    "For this example, we'll prepare six falcon tubes with different glucose concentrations.\n",
    "We start by creating the `Labware`/`Trough` objects corresponding to the labwares on the EVOware worktable:"
   ]
  },
  {
   "cell_type": "code",
   "execution_count": 2,
   "metadata": {},
   "outputs": [
    {
     "name": "stdout",
     "output_type": "stream",
     "text": [
      "water\n",
      "[[20000.]]\n",
      "glucose\n",
      "[[20000.]]\n",
      "falcons\n",
      "[[0.]\n",
      " [0.]\n",
      " [0.]\n",
      " [0.]\n",
      " [0.]\n",
      " [0.]]\n"
     ]
    }
   ],
   "source": [
    "water = robotools.Trough(\"water\", 6, 1, min_volume=5000, max_volume=100_000, initial_volumes=20_000)\n",
    "glucose = robotools.Trough(\"glucose\", 6, 1, min_volume=5000, max_volume=100_000, initial_volumes=20_000)\n",
    "\n",
    "# We'll prepare 6 Falcons with different glucose concentrations\n",
    "falcons = robotools.Labware(\"falcons\", 6, 1, min_volume=50, max_volume=15_000)\n",
    "\n",
    "print(water)\n",
    "print(glucose)\n",
    "print(falcons)"
   ]
  },
  {
   "cell_type": "markdown",
   "metadata": {},
   "source": [
    "## Large Volume Handling\n",
    "With 1000 µL diluters, the Freedom EVO can handle about 950 µL. The exact number depends on the liquid class, but potentially also on device-specifics such as tubing lengths.\n",
    "\n",
    "By default, a `Worklist` is initialized with `max_volume=950` and `auto_split=True` and large volume pipetting steps are split by source column automatically."
   ]
  },
  {
   "cell_type": "code",
   "execution_count": 3,
   "metadata": {},
   "outputs": [
    {
     "name": "stdout",
     "output_type": "stream",
     "text": [
      "falcons\n",
      "initial\n",
      "[[0.]\n",
      " [0.]\n",
      " [0.]\n",
      " [0.]\n",
      " [0.]\n",
      " [0.]]\n",
      "\n",
      "initial glucose\n",
      "[[   0.]\n",
      " [ 500.]\n",
      " [1000.]\n",
      " [1500.]\n",
      " [2500.]\n",
      " [2750.]]\n",
      "\n",
      "water up to 3 mL\n",
      "[[3000.]\n",
      " [3000.]\n",
      " [3000.]\n",
      " [3000.]\n",
      " [3000.]\n",
      " [3000.]]\n",
      "\n"
     ]
    }
   ],
   "source": [
    "with robotools.Worklist(max_volume=950, auto_split=True) as wl:\n",
    "    wl.transfer(\n",
    "        glucose, glucose.wells[:, 0],\n",
    "        falcons, falcons.wells[:, 0],\n",
    "        [0, 500, 1000, 1500, 2500, 2750],\n",
    "        label='initial glucose'\n",
    "    )\n",
    "    wl.transfer(\n",
    "        water, water.wells[:, 0],\n",
    "        falcons, falcons.wells[:,0],\n",
    "        [3000, 2500, 2000, 1500, 500, 250],\n",
    "        label='water up to 3 mL'\n",
    "    )\n",
    "    \n",
    "print(falcons.report)"
   ]
  },
  {
   "cell_type": "markdown",
   "metadata": {},
   "source": [
    "Because the pipetting history of large volume transfers is condensed automatically, the individual pipetting steps dont't show up.\n",
    "However, we can see them in the created worklist:"
   ]
  },
  {
   "cell_type": "code",
   "execution_count": 4,
   "metadata": {
    "scrolled": false
   },
   "outputs": [
    {
     "data": {
      "text/plain": [
       "C;initial glucose\n",
       "A;glucose;;;2;;500.00;;;;\n",
       "D;falcons;;;2;;500.00;;;;\n",
       "W1;\n",
       "A;glucose;;;3;;500.00;;;;\n",
       "D;falcons;;;3;;500.00;;;;\n",
       "W1;\n",
       "A;glucose;;;4;;750.00;;;;\n",
       "D;falcons;;;4;;750.00;;;;\n",
       "W1;\n",
       "A;glucose;;;5;;834.00;;;;\n",
       "D;falcons;;;5;;834.00;;;;\n",
       "W1;\n",
       "A;glucose;;;6;;917.00;;;;\n",
       "D;falcons;;;6;;917.00;;;;\n",
       "W1;\n",
       "B;\n",
       "A;glucose;;;3;;500.00;;;;\n",
       "D;falcons;;;3;;500.00;;;;\n",
       "W1;\n",
       "A;glucose;;;4;;750.00;;;;\n",
       "D;falcons;;;4;;750.00;;;;\n",
       "W1;\n",
       "A;glucose;;;5;;834.00;;;;\n",
       "D;falcons;;;5;;834.00;;;;\n",
       "W1;\n",
       "A;glucose;;;6;;917.00;;;;\n",
       "D;falcons;;;6;;917.00;;;;\n",
       "W1;\n",
       "B;\n",
       "A;glucose;;;5;;832.00;;;;\n",
       "D;falcons;;;5;;832.00;;;;\n",
       "W1;\n",
       "A;glucose;;;6;;916.00;;;;\n",
       "D;falcons;;;6;;916.00;;;;\n",
       "W1;\n",
       "B;\n",
       "C;water up to 3 mL\n",
       "A;water;;;1;;750.00;;;;\n",
       "D;falcons;;;1;;750.00;;;;\n",
       "W1;\n",
       "A;water;;;2;;834.00;;;;\n",
       "D;falcons;;;2;;834.00;;;;\n",
       "W1;\n",
       "A;water;;;3;;667.00;;;;\n",
       "D;falcons;;;3;;667.00;;;;\n",
       "W1;\n",
       "A;water;;;4;;750.00;;;;\n",
       "D;falcons;;;4;;750.00;;;;\n",
       "W1;\n",
       "A;water;;;5;;500.00;;;;\n",
       "D;falcons;;;5;;500.00;;;;\n",
       "W1;\n",
       "A;water;;;6;;250.00;;;;\n",
       "D;falcons;;;6;;250.00;;;;\n",
       "W1;\n",
       "B;\n",
       "A;water;;;1;;750.00;;;;\n",
       "D;falcons;;;1;;750.00;;;;\n",
       "W1;\n",
       "A;water;;;2;;834.00;;;;\n",
       "D;falcons;;;2;;834.00;;;;\n",
       "W1;\n",
       "A;water;;;3;;667.00;;;;\n",
       "D;falcons;;;3;;667.00;;;;\n",
       "W1;\n",
       "A;water;;;4;;750.00;;;;\n",
       "D;falcons;;;4;;750.00;;;;\n",
       "W1;\n",
       "B;\n",
       "A;water;;;1;;750.00;;;;\n",
       "D;falcons;;;1;;750.00;;;;\n",
       "W1;\n",
       "A;water;;;2;;832.00;;;;\n",
       "D;falcons;;;2;;832.00;;;;\n",
       "W1;\n",
       "A;water;;;3;;666.00;;;;\n",
       "D;falcons;;;3;;666.00;;;;\n",
       "W1;\n",
       "B;\n",
       "A;water;;;1;;750.00;;;;\n",
       "D;falcons;;;1;;750.00;;;;\n",
       "W1;\n",
       "B;"
      ]
     },
     "execution_count": 4,
     "metadata": {},
     "output_type": "execute_result"
    }
   ],
   "source": [
    "wl"
   ]
  }
 ],
 "metadata": {
  "kernelspec": {
   "display_name": "Python 3",
   "language": "python",
   "name": "python3"
  },
  "language_info": {
   "codemirror_mode": {
    "name": "ipython",
    "version": 3
   },
   "file_extension": ".py",
   "mimetype": "text/x-python",
   "name": "python",
   "nbconvert_exporter": "python",
   "pygments_lexer": "ipython3",
   "version": "3.7.9"
  }
 },
 "nbformat": 4,
 "nbformat_minor": 2
}