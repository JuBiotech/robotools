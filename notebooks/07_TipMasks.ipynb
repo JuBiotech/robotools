{
 "cells": [
  {
   "cell_type": "markdown",
   "metadata": {},
   "source": [
    "# Pipetting with specific tips\n",
    "Sometimes it is useful to specify exactly which tip to use for pipetting.\n",
    "This can be to avoid cross-contaminations, but is __also needed if some tips are broken/deactivated__.\n",
    "\n",
    "To restrict pipetting operations to specific tips, one can pass the `tip` kwarg.\n",
    "The `tip` kwarg can be used in three ways:\n",
    "* Use `tip=1` to use only tip number one\n",
    "* Alternatively `tip=robotools.Tip.T1` is the same as the above.\n",
    "* Or you can pass an iterable such as a `set`, `tuple` or `list`. For example: `tip=[1, 3, 4]`\n",
    "\n",
    "The code examples below show this in action."
   ]
  },
  {
   "cell_type": "code",
   "execution_count": 1,
   "metadata": {},
   "outputs": [],
   "source": [
    "import robotools\n",
    "\n",
    "water = robotools.Trough(\"water\", 8, 1, min_volume=0, max_volume=100_000, initial_volumes=100_000)\n",
    "target = robotools.Labware(\"target\", 4, 5, min_volume=0, max_volume=300)\n",
    "\n",
    "\n",
    "with robotools.Worklist() as wl:\n",
    "    wl.transfer(\n",
    "        source=water,\n",
    "        source_wells=robotools.get_trough_wells(10, water.wells),\n",
    "        destination=target,\n",
    "        # Only the 1st and 4th row\n",
    "        destination_wells=[\n",
    "            ['A01', 'A02', 'A03', 'A04', 'A05'],\n",
    "            ['D01', 'D02', 'D03', 'D04', 'D05'],\n",
    "        ],\n",
    "        volumes=200,\n",
    "        # Using tips 1 and 4\n",
    "        tip=[1, 4],\n",
    "        label=\"Transfer water with tips 1 and 4\",\n",
    "    )"
   ]
  },
  {
   "cell_type": "markdown",
   "metadata": {},
   "source": [
    "The volumes are as expected: Water in the first and last row 👇"
   ]
  },
  {
   "cell_type": "code",
   "execution_count": 2,
   "metadata": {},
   "outputs": [
    {
     "data": {
      "text/plain": [
       "target\n",
       "[[200. 200. 200. 200. 200.]\n",
       " [  0.   0.   0.   0.   0.]\n",
       " [  0.   0.   0.   0.   0.]\n",
       " [200. 200. 200. 200. 200.]]"
      ]
     },
     "execution_count": 2,
     "metadata": {},
     "output_type": "execute_result"
    }
   ],
   "source": [
    "target"
   ]
  },
  {
   "cell_type": "markdown",
   "metadata": {},
   "source": [
    "If we look at the worklist `wl` we can see that each aspirate (A) and dispense (D) command had a tip mask of `9` which corresponds to the sum of the binary values for `Tip.T1` (1) and `Tip.T4` (8)."
   ]
  },
  {
   "cell_type": "code",
   "execution_count": 3,
   "metadata": {},
   "outputs": [
    {
     "data": {
      "text/plain": [
       "C;Transfer water with tips 1 and 4\n",
       "A;water;;;1;;200.00;;;9;\n",
       "D;target;;;1;;200.00;;;9;\n",
       "W1;\n",
       "A;water;;;2;;200.00;;;9;\n",
       "D;target;;;4;;200.00;;;9;\n",
       "W1;\n",
       "A;water;;;3;;200.00;;;9;\n",
       "D;target;;;5;;200.00;;;9;\n",
       "W1;\n",
       "A;water;;;4;;200.00;;;9;\n",
       "D;target;;;8;;200.00;;;9;\n",
       "W1;\n",
       "A;water;;;5;;200.00;;;9;\n",
       "D;target;;;9;;200.00;;;9;\n",
       "W1;\n",
       "A;water;;;6;;200.00;;;9;\n",
       "D;target;;;12;;200.00;;;9;\n",
       "W1;\n",
       "A;water;;;7;;200.00;;;9;\n",
       "D;target;;;13;;200.00;;;9;\n",
       "W1;\n",
       "A;water;;;8;;200.00;;;9;\n",
       "D;target;;;16;;200.00;;;9;\n",
       "W1;\n",
       "A;water;;;1;;200.00;;;9;\n",
       "D;target;;;17;;200.00;;;9;\n",
       "W1;\n",
       "A;water;;;2;;200.00;;;9;\n",
       "D;target;;;20;;200.00;;;9;\n",
       "W1;"
      ]
     },
     "execution_count": 3,
     "metadata": {},
     "output_type": "execute_result"
    }
   ],
   "source": [
    "wl"
   ]
  },
  {
   "cell_type": "code",
   "execution_count": null,
   "metadata": {},
   "outputs": [],
   "source": []
  }
 ],
 "metadata": {
  "kernelspec": {
   "display_name": "Python 3.8.12 ('dibecs_6.0.5')",
   "language": "python",
   "name": "python3"
  },
  "language_info": {
   "codemirror_mode": {
    "name": "ipython",
    "version": 3
   },
   "file_extension": ".py",
   "mimetype": "text/x-python",
   "name": "python",
   "nbconvert_exporter": "python",
   "pygments_lexer": "ipython3",
   "version": "3.8.12"
  },
  "orig_nbformat": 4,
  "vscode": {
   "interpreter": {
    "hash": "47708a100f5128723730fc4374c087f02a011f1146e5886fec6a9b8dd97015c0"
   }
  }
 },
 "nbformat": 4,
 "nbformat_minor": 2
}
