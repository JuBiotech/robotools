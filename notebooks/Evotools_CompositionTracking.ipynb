{
 "cells": [
  {
   "cell_type": "code",
   "execution_count": 1,
   "metadata": {},
   "outputs": [],
   "source": [
    "%load_ext autoreload\n",
    "%autoreload 2\n",
    "\n",
    "import numpy\n",
    "\n",
    "from robotools import liquidhandling\n",
    "from robotools import evotools"
   ]
  },
  {
   "cell_type": "markdown",
   "metadata": {},
   "source": [
    "`robotools` can automatically track the composition of liquids. This is useful if you're preparing a dilution series, or a complex mixture of different components.\n",
    "With the `Labware.composition` property, you can inspect the relative composition of your liquids.\n",
    "\n",
    "To use this feature, make sure that you define the correct `initial_volumes` on all of your labwares:"
   ]
  },
  {
   "cell_type": "code",
   "execution_count": 2,
   "metadata": {},
   "outputs": [],
   "source": [
    "# Troughs\n",
    "water = liquidhandling.Labware('water', 1, 1,\n",
    "                               min_volume=1000, max_volume=25000,\n",
    "                               initial_volumes=25000, virtual_rows=4)\n",
    "cgxii = liquidhandling.Labware('cgxii', 1, 1,\n",
    "                               min_volume=1000, max_volume=25000,\n",
    "                               initial_volumes=25000, virtual_rows=4)\n",
    "iptg = liquidhandling.Labware('IPTG', 1, 1,\n",
    "                               min_volume=1000, max_volume=25000,\n",
    "                               initial_volumes=25000, virtual_rows=4)\n",
    "# Eppis with inoculum\n",
    "inoculum = liquidhandling.Labware('inoculum', 4, 1, min_volume=20, max_volume=1500, initial_volumes=100)\n",
    "# FlowerPlate (only the first 3 columns for simplicity)\n",
    "cultures = liquidhandling.Labware('cultures', 4, 3, min_volume=0, max_volume=1000)\n",
    "\n",
    "# Then proceed to do regular liquid handling steps\n",
    "with evotools.Worklist() as wl:\n",
    "    # add media to all wells\n",
    "    wl.distribute(\n",
    "        cgxii, 0,\n",
    "        cultures, cultures.wells,\n",
    "        volume=760\n",
    "    )\n",
    "    # add different amounts of IPTG\n",
    "    wl.transfer(\n",
    "        iptg, iptg.wells[:,[0]*3],\n",
    "        cultures, cultures.wells,\n",
    "        volumes=numpy.array([\n",
    "            [4]*3,\n",
    "            [8]*3,\n",
    "            [12]*3,\n",
    "            [16]*3,\n",
    "        ])\n",
    "    )\n",
    "    # inoculate\n",
    "    wl.transfer(\n",
    "        inoculum, inoculum.wells[:,[0]*3],\n",
    "        cultures, cultures.wells,\n",
    "        volumes=20\n",
    "    )\n",
    "    # fill up to 800 with water\n",
    "    wl.transfer(\n",
    "        water, water.wells[:,[0]*3],\n",
    "        cultures, cultures.wells,\n",
    "        volumes=800-cultures.volumes\n",
    "    )"
   ]
  },
  {
   "cell_type": "markdown",
   "metadata": {},
   "source": [
    "The `Labware.composition` dictionary now describes the relative amounts of each component in the liquid. By multiplying it with the current volumes, we get back the µl-fractions:"
   ]
  },
  {
   "cell_type": "code",
   "execution_count": 3,
   "metadata": {},
   "outputs": [
    {
     "data": {
      "text/plain": [
       "array([[20., 20., 20.],\n",
       "       [20., 20., 20.],\n",
       "       [20., 20., 20.],\n",
       "       [20., 20., 20.]])"
      ]
     },
     "execution_count": 3,
     "metadata": {},
     "output_type": "execute_result"
    }
   ],
   "source": [
    "cultures.composition['inoculum'] * cultures.volumes"
   ]
  },
  {
   "cell_type": "markdown",
   "metadata": {},
   "source": [
    "To compute the final concentration of a component, just multiply its relative amount with the original concentration:"
   ]
  },
  {
   "cell_type": "code",
   "execution_count": 4,
   "metadata": {},
   "outputs": [
    {
     "data": {
      "text/plain": [
       "array([[0.5, 0.5, 0.5],\n",
       "       [1. , 1. , 1. ],\n",
       "       [1.5, 1.5, 1.5],\n",
       "       [2. , 2. , 2. ]])"
      ]
     },
     "execution_count": 4,
     "metadata": {},
     "output_type": "execute_result"
    }
   ],
   "source": [
    "cultures.composition['IPTG'] * 100 # mM"
   ]
  },
  {
   "cell_type": "markdown",
   "metadata": {},
   "source": [
    "One can also inspect the relative composition of an individual well:"
   ]
  },
  {
   "cell_type": "code",
   "execution_count": 5,
   "metadata": {},
   "outputs": [
    {
     "data": {
      "text/plain": [
       "{'cgxii': 0.95, 'IPTG': 0.015, 'inoculum': 0.025, 'water': 0.01}"
      ]
     },
     "execution_count": 5,
     "metadata": {},
     "output_type": "execute_result"
    }
   ],
   "source": [
    "cultures.get_well_composition('C02')"
   ]
  },
  {
   "cell_type": "markdown",
   "metadata": {},
   "source": [
    "As expected, they sum up to 1.0:"
   ]
  },
  {
   "cell_type": "code",
   "execution_count": 6,
   "metadata": {},
   "outputs": [
    {
     "data": {
      "text/plain": [
       "1.0"
      ]
     },
     "execution_count": 6,
     "metadata": {},
     "output_type": "execute_result"
    }
   ],
   "source": [
    "sum(cultures.get_well_composition('C02').values())"
   ]
  },
  {
   "cell_type": "markdown",
   "metadata": {},
   "source": [
    "Still reading? Go and try it yourself! Maybe with a dilution series?"
   ]
  }
 ],
 "metadata": {
  "kernelspec": {
   "display_name": "Python 3",
   "language": "python",
   "name": "python3"
  },
  "language_info": {
   "codemirror_mode": {
    "name": "ipython",
    "version": 3
   },
   "file_extension": ".py",
   "mimetype": "text/x-python",
   "name": "python",
   "nbconvert_exporter": "python",
   "pygments_lexer": "ipython3",
   "version": "3.6.8"
  }
 },
 "nbformat": 4,
 "nbformat_minor": 2
}
