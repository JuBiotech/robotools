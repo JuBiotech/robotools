{
 "cells": [
  {
   "cell_type": "markdown",
   "metadata": {},
   "source": [
    "# `Labware` Basics\n",
    "In `robotools` there are two important types of objects: `Labware` and `Worklist`.\n",
    "A `Labware` represents an array of wells, such as a microtiter plate (MTP), one or more troughs or even an arrangement of eppis or falcon tubes.\n",
    "\n",
    "The `Worklist` helps you to perform liquid handling operations on `Labware` objects while automatically creating an EVOware Worklist file (`*.gwl`) with the corresponding pipetting instructions.\n",
    "These files contain things like source/destination, volume and can be executed by a Tecan EVOware script.\n",
    "But before we'll get creating worklists, this example introduces how `robotools` generally deals with liquid handling."
   ]
  },
  {
   "cell_type": "code",
   "execution_count": 1,
   "metadata": {},
   "outputs": [],
   "source": [
    "import robotools"
   ]
  },
  {
   "cell_type": "markdown",
   "metadata": {},
   "source": [
    "## The `Labware` object\n",
    "Each `Labware` object describes a $R\\times C$ grid (array) of wells.\n",
    "It has a `name` and `min_volume`/`max_volume` to prevent you from pipetting impossible volumes.\n",
    "\n",
    "The following cell creates a `Labware` with the name \"24-well plate\".\n",
    "When creating worklists, this name should match the labware defined on the EVOware worktable."
   ]
  },
  {
   "cell_type": "code",
   "execution_count": 2,
   "metadata": {},
   "outputs": [
    {
     "name": "stdout",
     "output_type": "stream",
     "text": [
      "24-well plate\n",
      "[[300. 300. 300. 300. 300. 300.]\n",
      " [300. 300. 300. 300. 300. 300.]\n",
      " [300. 300. 300. 300. 300. 300.]\n",
      " [300. 300. 300. 300. 300. 300.]]\n"
     ]
    }
   ],
   "source": [
    "plate = robotools.Labware(\n",
    "    \"24-well plate\", rows=4, columns=6, \n",
    "    min_volume=100, max_volume=1_000,\n",
    "    initial_volumes=300\n",
    ")\n",
    "print(plate)"
   ]
  },
  {
   "cell_type": "markdown",
   "metadata": {},
   "source": [
    "The `Labware` has a lot of useful properties.\n",
    "Most importantly: `wells` and `volumes`"
   ]
  },
  {
   "cell_type": "code",
   "execution_count": 3,
   "metadata": {},
   "outputs": [
    {
     "data": {
      "text/plain": [
       "array([['A01', 'A02', 'A03', 'A04', 'A05', 'A06'],\n",
       "       ['B01', 'B02', 'B03', 'B04', 'B05', 'B06'],\n",
       "       ['C01', 'C02', 'C03', 'C04', 'C05', 'C06'],\n",
       "       ['D01', 'D02', 'D03', 'D04', 'D05', 'D06']], dtype='<U3')"
      ]
     },
     "execution_count": 3,
     "metadata": {},
     "output_type": "execute_result"
    }
   ],
   "source": [
    "# These are the well IDs as they are typically printed on the plastic:\n",
    "plate.wells"
   ]
  },
  {
   "cell_type": "code",
   "execution_count": 4,
   "metadata": {},
   "outputs": [
    {
     "data": {
      "text/plain": [
       "array([[300., 300., 300., 300., 300., 300.],\n",
       "       [300., 300., 300., 300., 300., 300.],\n",
       "       [300., 300., 300., 300., 300., 300.],\n",
       "       [300., 300., 300., 300., 300., 300.]])"
      ]
     },
     "execution_count": 4,
     "metadata": {},
     "output_type": "execute_result"
    }
   ],
   "source": [
    "# In the same orientation, these are the current filling volumes:\n",
    "plate.volumes"
   ]
  },
  {
   "cell_type": "markdown",
   "metadata": {},
   "source": [
    "If you are familiar with Python already, you probably know how [NumPy slicing](https://www.w3schools.com/python/numpy_array_slicing.asp) works.\n",
    "Because `.wells` and `.volumes` are NumPy `ndarray`s, you can use NumPy slicing to select particular ranges:"
   ]
  },
  {
   "cell_type": "code",
   "execution_count": 5,
   "metadata": {},
   "outputs": [
    {
     "data": {
      "text/plain": [
       "array([['B02', 'B03', 'B04', 'B05'],\n",
       "       ['C02', 'C03', 'C04', 'C05']], dtype='<U3')"
      ]
     },
     "execution_count": 5,
     "metadata": {},
     "output_type": "execute_result"
    }
   ],
   "source": [
    "# This slice selects all wells except the first/last column/row:\n",
    "plate.wells[1:-1, 1:-1]"
   ]
  },
  {
   "cell_type": "markdown",
   "metadata": {},
   "source": [
    "`Labware`s have methods such as `.add()`, `.remove()` for performing virtual liquid handling operations.\n",
    "You won't typically work with `.add()` or `.remove()` directly, because most things you do with a `Worklist` will call these methods under the hood.\n",
    "\n",
    "One job of the `.add()` and `.remove()` methods is to raise `VolumeOverflowError` or `VolumeUnderflowError` when the minimum/maximum working volumes are violated:"
   ]
  },
  {
   "cell_type": "code",
   "execution_count": 6,
   "metadata": {},
   "outputs": [
    {
     "name": "stdout",
     "output_type": "stream",
     "text": [
      "Too much volume for \"24-well plate\".C01: 300.0 + 2000 > 1000\n"
     ]
    }
   ],
   "source": [
    "try:\n",
    "    \n",
    "    plate.add(['A01', 'B01', 'C01'], [200, 200, 2000])\n",
    "    \n",
    "# The try/except is just to make the example look nice.\n",
    "except Exception as ex:\n",
    "    print(ex)"
   ]
  },
  {
   "cell_type": "markdown",
   "metadata": {},
   "source": [
    "Another job is to record a history of all liquid handling operations performed over the labware's lifetime:"
   ]
  },
  {
   "cell_type": "code",
   "execution_count": 7,
   "metadata": {},
   "outputs": [
    {
     "name": "stdout",
     "output_type": "stream",
     "text": [
      "24-well plate\n",
      "initial\n",
      "[[300. 300. 300. 300. 300. 300.]\n",
      " [300. 300. 300. 300. 300. 300.]\n",
      " [300. 300. 300. 300. 300. 300.]\n",
      " [300. 300. 300. 300. 300. 300.]]\n",
      "\n",
      "Add 55 µL to the center wells\n",
      "[[500. 300. 300. 300. 300. 300.]\n",
      " [500. 355. 355. 355. 355. 300.]\n",
      " [300. 355. 355. 355. 355. 300.]\n",
      " [300. 300. 300. 300. 300. 300.]]\n",
      "\n"
     ]
    }
   ],
   "source": [
    "plate.add(plate.wells[1:-1, 1:-1], volumes=55, label=\"Add 55 µL to the center wells\")\n",
    "\n",
    "print(plate.report)"
   ]
  },
  {
   "cell_type": "markdown",
   "metadata": {},
   "source": [
    "### Troughs\n",
    "Troughs are a little weird, because for the EVOware, they have multiple rows, even though it's actually just one big well.\n",
    "\n",
    "Nevertheless, a `Trough` is just a special type of `Labware` that has `virtual_rows`.\n",
    "\n",
    "The following example emulates an arrangement of 4 troughs next to each other.\n",
    "They have `virtual_rows=8`, so there's enough space for 8 tips (`A01` through `H01`), but in reality it's just one well per column:"
   ]
  },
  {
   "cell_type": "code",
   "execution_count": 8,
   "metadata": {},
   "outputs": [
    {
     "name": "stdout",
     "output_type": "stream",
     "text": [
      "4xTrough\n",
      "[[20000. 10000. 10000. 10000.]]\n"
     ]
    }
   ],
   "source": [
    "quadruple_trough = robotools.Trough(\n",
    "    \"4xTrough\", 8, 4,\n",
    "    min_volume=1000, max_volume=30_000,\n",
    "    initial_volumes=[20_000, 10_000, 10_000, 10_000]\n",
    ")\n",
    "print(quadruple_trough)"
   ]
  },
  {
   "cell_type": "markdown",
   "metadata": {},
   "source": [
    "Let's say we want to aspirate 12x 100 µL from the first trough, operating all 8 pipettes in parallel.\n",
    "So we need 8 _different_ virtual well IDs (A01-H01), but 11 in total.\n",
    "\n",
    "The `robotools.get_trough_wells` helper function returns such a well list:"
   ]
  },
  {
   "cell_type": "code",
   "execution_count": 9,
   "metadata": {},
   "outputs": [
    {
     "name": "stdout",
     "output_type": "stream",
     "text": [
      "\n",
      "Virtual wells:\n",
      "['A01', 'B01', 'C01', 'D01', 'E01', 'F01', 'G01', 'H01', 'A01', 'B01', 'C01']\n",
      "\n",
      "Result:\n",
      "4xTrough\n",
      "[[18900. 10000. 10000. 10000.]]\n",
      "\n"
     ]
    }
   ],
   "source": [
    "vwells = robotools.get_trough_wells(\n",
    "    n=11,\n",
    "    trough_wells=quadruple_trough.wells[:, 0]   # select the wells from the first trough\n",
    ")\n",
    "\n",
    "quadruple_trough.remove(vwells, 100)\n",
    "\n",
    "print(f\"\"\"\n",
    "Virtual wells:\n",
    "{vwells}\n",
    "\n",
    "Result:\n",
    "{quadruple_trough}\n",
    "\"\"\")"
   ]
  },
  {
   "cell_type": "code",
   "execution_count": null,
   "metadata": {},
   "outputs": [],
   "source": []
  }
 ],
 "metadata": {
  "kernelspec": {
   "display_name": "Python 3",
   "language": "python",
   "name": "python3"
  },
  "language_info": {
   "codemirror_mode": {
    "name": "ipython",
    "version": 3
   },
   "file_extension": ".py",
   "mimetype": "text/x-python",
   "name": "python",
   "nbconvert_exporter": "python",
   "pygments_lexer": "ipython3",
   "version": "3.7.9"
  }
 },
 "nbformat": 4,
 "nbformat_minor": 2
}
