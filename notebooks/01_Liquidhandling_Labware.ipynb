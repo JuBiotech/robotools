{
 "cells": [
  {
   "cell_type": "markdown",
   "metadata": {},
   "source": [
    "# Labware\n",
    "This example shows how to use the most important type in the `liquidhandling` package: `Labware`."
   ]
  },
  {
   "cell_type": "code",
   "execution_count": 1,
   "metadata": {},
   "outputs": [],
   "source": [
    "from robotools import liquidhandling"
   ]
  },
  {
   "cell_type": "markdown",
   "metadata": {},
   "source": [
    "## Types of Labware\n",
    "The `Labware` type describes well plates and troughs as 2-dimensional arrays. They have `min_volume` and `max_volume` to prevent you from pipetting unrealistic volumes.\n",
    "\n",
    "Not only can `Labware` be used to create GWL-worklists in an object-oriented manner (see `Evotools_AssayPreparation`), it records its history of filling volumes. This is extremely useful if you're trying to create complex mixing/dilution procedures."
   ]
  },
  {
   "cell_type": "markdown",
   "metadata": {},
   "source": [
    "### Well plates\n",
    "Well-plate-like labware is nothing more than a RxC grid of inidividual wells. Each has its own liquid volume."
   ]
  },
  {
   "cell_type": "code",
   "execution_count": 2,
   "metadata": {},
   "outputs": [
    {
     "name": "stdout",
     "output_type": "stream",
     "text": [
      "24-well plate\n",
      "[[300. 300. 300. 300. 300. 300.]\n",
      " [300. 300. 300. 300. 300. 300.]\n",
      " [300. 300. 300. 300. 300. 300.]\n",
      " [300. 300. 300. 300. 300. 300.]]\n"
     ]
    }
   ],
   "source": [
    "plate = liquidhandling.Labware('24-well plate', rows=4, columns=6, \n",
    "    min_volume=100, max_volume=1000,\n",
    "    initial_volumes=300\n",
    ")\n",
    "print(plate)"
   ]
  },
  {
   "cell_type": "markdown",
   "metadata": {},
   "source": [
    "The `Labware` has several useful properties. Most importantly: `wells` and `volumes`"
   ]
  },
  {
   "cell_type": "code",
   "execution_count": 3,
   "metadata": {},
   "outputs": [
    {
     "data": {
      "text/plain": [
       "array([['A01', 'A02', 'A03', 'A04', 'A05', 'A06'],\n",
       "       ['B01', 'B02', 'B03', 'B04', 'B05', 'B06'],\n",
       "       ['C01', 'C02', 'C03', 'C04', 'C05', 'C06'],\n",
       "       ['D01', 'D02', 'D03', 'D04', 'D05', 'D06']], dtype='<U3')"
      ]
     },
     "execution_count": 3,
     "metadata": {},
     "output_type": "execute_result"
    }
   ],
   "source": [
    "plate.wells"
   ]
  },
  {
   "cell_type": "code",
   "execution_count": 4,
   "metadata": {},
   "outputs": [
    {
     "data": {
      "text/plain": [
       "array([[300., 300., 300., 300., 300., 300.],\n",
       "       [300., 300., 300., 300., 300., 300.],\n",
       "       [300., 300., 300., 300., 300., 300.],\n",
       "       [300., 300., 300., 300., 300., 300.]])"
      ]
     },
     "execution_count": 4,
     "metadata": {},
     "output_type": "execute_result"
    }
   ],
   "source": [
    "plate.volumes"
   ]
  },
  {
   "cell_type": "markdown",
   "metadata": {},
   "source": [
    "Well ids can be mapped to EVOware-style `positions` and numpy-style `indices`:"
   ]
  },
  {
   "cell_type": "code",
   "execution_count": 5,
   "metadata": {},
   "outputs": [
    {
     "name": "stdout",
     "output_type": "stream",
     "text": [
      "{'A01': 1, 'A02': 5, 'A03': 9, 'A04': 13, 'A05': 17, 'A06': 21, 'B01': 2, 'B02': 6, 'B03': 10, 'B04': 14, 'B05': 18, 'B06': 22, 'C01': 3, 'C02': 7, 'C03': 11, 'C04': 15, 'C05': 19, 'C06': 23, 'D01': 4, 'D02': 8, 'D03': 12, 'D04': 16, 'D05': 20, 'D06': 24}\n"
     ]
    }
   ],
   "source": [
    "print(plate.positions)"
   ]
  },
  {
   "cell_type": "code",
   "execution_count": 6,
   "metadata": {},
   "outputs": [
    {
     "name": "stdout",
     "output_type": "stream",
     "text": [
      "{'A01': (0, 0), 'A02': (0, 1), 'A03': (0, 2), 'A04': (0, 3), 'A05': (0, 4), 'A06': (0, 5), 'B01': (1, 0), 'B02': (1, 1), 'B03': (1, 2), 'B04': (1, 3), 'B05': (1, 4), 'B06': (1, 5), 'C01': (2, 0), 'C02': (2, 1), 'C03': (2, 2), 'C04': (2, 3), 'C05': (2, 4), 'C06': (2, 5), 'D01': (3, 0), 'D02': (3, 1), 'D03': (3, 2), 'D04': (3, 3), 'D05': (3, 4), 'D06': (3, 5)}\n"
     ]
    }
   ],
   "source": [
    "print(plate.indices)"
   ]
  },
  {
   "cell_type": "markdown",
   "metadata": {},
   "source": [
    "`Labware`s have a minimum/maximum volume, so if you try to remove/add too much, you'll get an error:"
   ]
  },
  {
   "cell_type": "code",
   "execution_count": 7,
   "metadata": {},
   "outputs": [
    {
     "ename": "VolumeOverflowError",
     "evalue": "Too much volume for \"24-well plate\".C01: 300.0 + 2000 > 1000",
     "output_type": "error",
     "traceback": [
      "\u001b[1;31m---------------------------------------------------------------------------\u001b[0m",
      "\u001b[1;31mVolumeOverflowError\u001b[0m                       Traceback (most recent call last)",
      "\u001b[1;32m<ipython-input-7-4e75e2b13a66>\u001b[0m in \u001b[0;36m<module>\u001b[1;34m\u001b[0m\n\u001b[1;32m----> 1\u001b[1;33m \u001b[0mplate\u001b[0m\u001b[1;33m.\u001b[0m\u001b[0madd\u001b[0m\u001b[1;33m(\u001b[0m\u001b[1;33m[\u001b[0m\u001b[1;34m'A01'\u001b[0m\u001b[1;33m,\u001b[0m \u001b[1;34m'B01'\u001b[0m\u001b[1;33m,\u001b[0m \u001b[1;34m'C01'\u001b[0m\u001b[1;33m]\u001b[0m\u001b[1;33m,\u001b[0m \u001b[1;33m[\u001b[0m\u001b[1;36m200\u001b[0m\u001b[1;33m,\u001b[0m \u001b[1;36m200\u001b[0m\u001b[1;33m,\u001b[0m \u001b[1;36m2000\u001b[0m\u001b[1;33m]\u001b[0m\u001b[1;33m)\u001b[0m\u001b[1;33m\u001b[0m\u001b[1;33m\u001b[0m\u001b[0m\n\u001b[0m",
      "\u001b[1;32mc:\\users\\osthege\\repos\\robotools\\robotools\\liquidhandling\\__init__.py\u001b[0m in \u001b[0;36madd\u001b[1;34m(self, wells, volumes, label, compositions)\u001b[0m\n\u001b[0;32m    226\u001b[0m \u001b[1;33m\u001b[0m\u001b[0m\n\u001b[0;32m    227\u001b[0m             \u001b[1;32mif\u001b[0m \u001b[0mv_new\u001b[0m \u001b[1;33m>\u001b[0m \u001b[0mself\u001b[0m\u001b[1;33m.\u001b[0m\u001b[0mmax_volume\u001b[0m\u001b[1;33m:\u001b[0m\u001b[1;33m\u001b[0m\u001b[1;33m\u001b[0m\u001b[0m\n\u001b[1;32m--> 228\u001b[1;33m                 \u001b[1;32mraise\u001b[0m \u001b[0mVolumeOverflowError\u001b[0m\u001b[1;33m(\u001b[0m\u001b[0mself\u001b[0m\u001b[1;33m.\u001b[0m\u001b[0mname\u001b[0m\u001b[1;33m,\u001b[0m \u001b[0mwell\u001b[0m\u001b[1;33m,\u001b[0m \u001b[0mv_original\u001b[0m\u001b[1;33m,\u001b[0m \u001b[0mvolume\u001b[0m\u001b[1;33m,\u001b[0m \u001b[0mself\u001b[0m\u001b[1;33m.\u001b[0m\u001b[0mmax_volume\u001b[0m\u001b[1;33m,\u001b[0m \u001b[0mlabel\u001b[0m\u001b[1;33m)\u001b[0m\u001b[1;33m\u001b[0m\u001b[1;33m\u001b[0m\u001b[0m\n\u001b[0m\u001b[0;32m    229\u001b[0m \u001b[1;33m\u001b[0m\u001b[0m\n\u001b[0;32m    230\u001b[0m             \u001b[0mself\u001b[0m\u001b[1;33m.\u001b[0m\u001b[0m_volumes\u001b[0m\u001b[1;33m[\u001b[0m\u001b[0midx\u001b[0m\u001b[1;33m]\u001b[0m \u001b[1;33m=\u001b[0m \u001b[0mv_new\u001b[0m\u001b[1;33m\u001b[0m\u001b[1;33m\u001b[0m\u001b[0m\n",
      "\u001b[1;31mVolumeOverflowError\u001b[0m: Too much volume for \"24-well plate\".C01: 300.0 + 2000 > 1000"
     ]
    }
   ],
   "source": [
    "plate.add(['A01', 'B01', 'C01'], [200, 200, 2000])"
   ]
  },
  {
   "cell_type": "markdown",
   "metadata": {},
   "source": [
    "### Troughs\n",
    "Troughs are a little weird, because for the robot, they have multiple rows, even though it's actually just one big well.\n",
    "\n",
    "To work with troughs, we can create `Labware` with `row=1, virtual_rows=8` that emulates a trough having enough space for 8 tips (`A01` through `H01`), but just one well:"
   ]
  },
  {
   "cell_type": "code",
   "execution_count": null,
   "metadata": {},
   "outputs": [],
   "source": [
    "quadruple_trough = liquidhandling.Labware('4xTrough', 1, 4,\n",
    "    min_volume=1000, max_volume=30*1000,\n",
    "    virtual_rows=8,\n",
    "    initial_volumes=[20*1000, 10*1000, 10*1000, 10*1000]\n",
    ")\n",
    "print(quadruple_trough)"
   ]
  },
  {
   "cell_type": "markdown",
   "metadata": {},
   "source": [
    "We can access an entire column of well ids to aspirate 100 µl (per tip) from the trough, removing 400 µl in total:"
   ]
  },
  {
   "cell_type": "code",
   "execution_count": null,
   "metadata": {},
   "outputs": [],
   "source": [
    "quadruple_trough.remove(['A01', 'B01', 'C01', 'D01'], 100)\n",
    "print(quadruple_trough)"
   ]
  },
  {
   "cell_type": "code",
   "execution_count": null,
   "metadata": {},
   "outputs": [],
   "source": []
  }
 ],
 "metadata": {
  "kernelspec": {
   "display_name": "Python 3",
   "language": "python",
   "name": "python3"
  },
  "language_info": {
   "codemirror_mode": {
    "name": "ipython",
    "version": 3
   },
   "file_extension": ".py",
   "mimetype": "text/x-python",
   "name": "python",
   "nbconvert_exporter": "python",
   "pygments_lexer": "ipython3",
   "version": "3.7.9"
  }
 },
 "nbformat": 4,
 "nbformat_minor": 2
}
