{
 "cells": [
  {
   "cell_type": "markdown",
   "metadata": {},
   "source": [
    "# Composition Tracking\n",
    "`robotools` automagically tracks the composition of well contents across liquid handling operations.\n",
    "This comes in handy for tasks such as media mixing, dilution series, or checking if the final concentrations of assay components are as planned.\n",
    "\n",
    "The composition tracking defaults to unique well-wise identifiers, but can be configured to name contents of wells explicitly."
   ]
  },
  {
   "cell_type": "code",
   "execution_count": 1,
   "metadata": {
    "execution": {
     "iopub.execute_input": "2023-03-17T19:39:07.440825Z",
     "iopub.status.busy": "2023-03-17T19:39:07.440825Z",
     "iopub.status.idle": "2023-03-17T19:39:07.668630Z",
     "shell.execute_reply": "2023-03-17T19:39:07.667724Z"
    }
   },
   "outputs": [],
   "source": [
    "import robotools"
   ]
  },
  {
   "cell_type": "markdown",
   "metadata": {},
   "source": [
    "Let's assume we have three labwares:\n",
    "+ A `Trough` of water.\n",
    "+ A 5-column `Trough` with 10xMedia, 1000xAntibiotics and two empty columns\n",
    "+ Two Eppis with biomass of different microorganisms\n",
    "\n",
    "From this we will prepare culture broths in the two empty trough colums to test the effectivity of the antibiotics."
   ]
  },
  {
   "cell_type": "code",
   "execution_count": 2,
   "metadata": {
    "execution": {
     "iopub.execute_input": "2023-03-17T19:39:07.671661Z",
     "iopub.status.busy": "2023-03-17T19:39:07.671661Z",
     "iopub.status.idle": "2023-03-17T19:39:07.684659Z",
     "shell.execute_reply": "2023-03-17T19:39:07.683738Z"
    }
   },
   "outputs": [],
   "source": [
    "minmax25 = dict(min_volume=1000, max_volume=25_000)\n",
    "\n",
    "water = robotools.Trough(\"water\", 1, 1, **minmax25, initial_volumes=25_000)\n",
    "\n",
    "troughs = robotools.Trough(\n",
    "    \"troughs\", 1, columns=5, **minmax25,\n",
    "    initial_volumes=[10_000, 5_000, 0, 0, 0],\n",
    "    # Trough contents are named like this:\n",
    "    column_names=[\"10xMedia\", \"100xAntibiotics\", None, None, None]\n",
    ")\n",
    "\n",
    "eppis = robotools.Labware(\n",
    "    \"eppis\", 2, 1, min_volume=50, max_volume=1500,\n",
    "    initial_volumes=500,\n",
    "    # Multi-well labware contents are named with a dict:\n",
    "    component_names={\n",
    "        \"A01\": \"E.coli\",\n",
    "        \"B01\": \"Y.pestis\",\n",
    "    }\n",
    ")"
   ]
  },
  {
   "cell_type": "markdown",
   "metadata": {},
   "source": [
    "The `Labware.composition` property is a dictionary that holds the fractional composition of each well, indexed by the name of the component:"
   ]
  },
  {
   "cell_type": "code",
   "execution_count": 3,
   "metadata": {
    "execution": {
     "iopub.execute_input": "2023-03-17T19:39:07.687660Z",
     "iopub.status.busy": "2023-03-17T19:39:07.687660Z",
     "iopub.status.idle": "2023-03-17T19:39:07.700610Z",
     "shell.execute_reply": "2023-03-17T19:39:07.699611Z"
    }
   },
   "outputs": [
    {
     "data": {
      "text/plain": [
       "{'10xMedia': array([[1., 0., 0., 0., 0.]]),\n",
       " '100xAntibiotics': array([[0., 1., 0., 0., 0.]])}"
      ]
     },
     "execution_count": 3,
     "metadata": {},
     "output_type": "execute_result"
    }
   ],
   "source": [
    "troughs.composition"
   ]
  },
  {
   "cell_type": "markdown",
   "metadata": {},
   "source": [
    "We can use two of the empty trough columns to prepare and inoculate a culture broth:"
   ]
  },
  {
   "cell_type": "code",
   "execution_count": 4,
   "metadata": {
    "execution": {
     "iopub.execute_input": "2023-03-17T19:39:07.735610Z",
     "iopub.status.busy": "2023-03-17T19:39:07.735610Z",
     "iopub.status.idle": "2023-03-17T19:39:07.748612Z",
     "shell.execute_reply": "2023-03-17T19:39:07.747611Z"
    }
   },
   "outputs": [],
   "source": [
    "V_MEDIUM = 10_000\n",
    "V_FINAL = 4_000\n",
    "\n",
    "with robotools.Worklist() as wl:\n",
    "    wells_medium = troughs.wells[:, 2]\n",
    "    wells_strain_A = troughs.wells[:, 3]\n",
    "    wells_strain_B = troughs.wells[:, 4]\n",
    "\n",
    "    # Prepare the medium\n",
    "    wl.transfer(\n",
    "        troughs, troughs.wells[:, 0],\n",
    "        troughs, wells_medium,\n",
    "        volumes=V_MEDIUM / 10,\n",
    "        label=\"transfer 10x media\"\n",
    "    )\n",
    "    wl.transfer(\n",
    "        troughs, troughs.wells[:, 1],\n",
    "        troughs, wells_medium,\n",
    "        volumes=V_MEDIUM / 100,\n",
    "        label=\"add antibiotics\"\n",
    "    )\n",
    "    wl.transfer(\n",
    "        water, water.wells,\n",
    "        troughs, wells_medium,\n",
    "        volumes=(V_MEDIUM * 0.95) - troughs.volumes[:, 2],\n",
    "        label=\"add water up to 95 % of the final volume\"\n",
    "    )\n",
    "    \n",
    "    # Split the medium into the two empty troughs\n",
    "    for target in [wells_strain_A, wells_strain_B]:\n",
    "        wl.transfer(\n",
    "            troughs, wells_medium,\n",
    "            troughs, target,\n",
    "            volumes=0.95 * V_FINAL,\n",
    "            label=\"Transfer medium\"\n",
    "        )\n",
    "    \n",
    "    # Add inoculum from the eppis\n",
    "    wl.transfer(\n",
    "        eppis, \"A01\",\n",
    "        troughs, wells_strain_A,\n",
    "        volumes=0.05 * V_FINAL,\n",
    "        label=\"Inoculate A\"\n",
    "    )\n",
    "    wl.transfer(\n",
    "        eppis, \"B01\",\n",
    "        troughs, wells_strain_B,\n",
    "        volumes=0.05 * V_FINAL,\n",
    "        label=\"Inoculate B\"\n",
    "    )"
   ]
  },
  {
   "cell_type": "markdown",
   "metadata": {},
   "source": [
    "We can see from the `.composition` property of the troughs that there are new components:"
   ]
  },
  {
   "cell_type": "code",
   "execution_count": 5,
   "metadata": {
    "execution": {
     "iopub.execute_input": "2023-03-17T19:39:07.751612Z",
     "iopub.status.busy": "2023-03-17T19:39:07.750643Z",
     "iopub.status.idle": "2023-03-17T19:39:07.764468Z",
     "shell.execute_reply": "2023-03-17T19:39:07.763577Z"
    }
   },
   "outputs": [
    {
     "data": {
      "text/plain": [
       "{'10xMedia': array([[1.        , 0.        , 0.10526316, 0.1       , 0.1       ]]),\n",
       " '100xAntibiotics': array([[0.        , 1.        , 0.01052632, 0.01      , 0.01      ]]),\n",
       " 'water': array([[0.        , 0.        , 0.88421053, 0.84      , 0.84      ]]),\n",
       " 'E.coli': array([[0.  , 0.  , 0.  , 0.05, 0.  ]]),\n",
       " 'Y.pestis': array([[0.  , 0.  , 0.  , 0.  , 0.05]])}"
      ]
     },
     "execution_count": 5,
     "metadata": {},
     "output_type": "execute_result"
    }
   ],
   "source": [
    "troughs.composition"
   ]
  },
  {
   "cell_type": "markdown",
   "metadata": {},
   "source": [
    "The composition of the individual culture broth wells is often easier to read.\n",
    "We can see that the 10xMedia component indeed makes up 10 % of the final volume:"
   ]
  },
  {
   "cell_type": "code",
   "execution_count": 6,
   "metadata": {
    "execution": {
     "iopub.execute_input": "2023-03-17T19:39:07.767498Z",
     "iopub.status.busy": "2023-03-17T19:39:07.766497Z",
     "iopub.status.idle": "2023-03-17T19:39:07.780581Z",
     "shell.execute_reply": "2023-03-17T19:39:07.779537Z"
    }
   },
   "outputs": [
    {
     "data": {
      "text/plain": [
       "{'10xMedia': 0.1,\n",
       " '100xAntibiotics': 0.009999999999999997,\n",
       " 'water': 0.84,\n",
       " 'E.coli': 0.05}"
      ]
     },
     "execution_count": 6,
     "metadata": {},
     "output_type": "execute_result"
    }
   ],
   "source": [
    "troughs.get_well_composition(\"A04\")"
   ]
  },
  {
   "cell_type": "code",
   "execution_count": 7,
   "metadata": {
    "execution": {
     "iopub.execute_input": "2023-03-17T19:39:07.783578Z",
     "iopub.status.busy": "2023-03-17T19:39:07.783578Z",
     "iopub.status.idle": "2023-03-17T19:39:07.795843Z",
     "shell.execute_reply": "2023-03-17T19:39:07.794837Z"
    }
   },
   "outputs": [
    {
     "data": {
      "text/plain": [
       "{'10xMedia': 0.1,\n",
       " '100xAntibiotics': 0.009999999999999997,\n",
       " 'water': 0.84,\n",
       " 'Y.pestis': 0.05}"
      ]
     },
     "execution_count": 7,
     "metadata": {},
     "output_type": "execute_result"
    }
   ],
   "source": [
    "troughs.get_well_composition(\"A05\")"
   ]
  },
  {
   "cell_type": "code",
   "execution_count": null,
   "metadata": {},
   "outputs": [],
   "source": []
  }
 ],
 "metadata": {
  "kernelspec": {
   "display_name": "Python 3",
   "language": "python",
   "name": "python3"
  },
  "language_info": {
   "codemirror_mode": {
    "name": "ipython",
    "version": 3
   },
   "file_extension": ".py",
   "mimetype": "text/x-python",
   "name": "python",
   "nbconvert_exporter": "python",
   "pygments_lexer": "ipython3",
   "version": "3.8.16"
  }
 },
 "nbformat": 4,
 "nbformat_minor": 2
}
