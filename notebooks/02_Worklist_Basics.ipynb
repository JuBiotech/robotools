{
 "cells": [
  {
   "cell_type": "markdown",
   "metadata": {},
   "source": [
    "# `Worklist` Basics\n",
    "The most flexible way to give pipetting instructions to the Tecan EVOware are worklist files (`*.gwl`).\n",
    "\n",
    "A simple worklist might look something like this:\n",
    "```\n",
    "W1;\n",
    "A;MasterMix;;;1;;50.00;;;;\n",
    "D;AssayPlate;;;1;;50.00;;;;\n",
    "W1;\n",
    "A;MasterMix;;;2;;50.00;;;;\n",
    "D;AssayPlate;;;2;;50.00;;;;\n",
    "```\n",
    "\n",
    "Between the `;`, the EVOware accepts various parameters such as the _liquid class_ or _rack type_.\n",
    "As you might guess from the above example you don't want to write such worklist files by hand.\n",
    "\n",
    "Instead, `robotools` can write these worklists for you.\n",
    "This is done with the `Worklist` class, a [context manager](https://book.pythontips.com/en/latest/context_managers.html) that automatically creates worklists from high-level liquid handling operations."
   ]
  },
  {
   "cell_type": "code",
   "execution_count": 1,
   "metadata": {},
   "outputs": [],
   "source": [
    "import robotools"
   ]
  },
  {
   "cell_type": "markdown",
   "metadata": {},
   "source": [
    "## Labware Definition"
   ]
  },
  {
   "cell_type": "code",
   "execution_count": 2,
   "metadata": {},
   "outputs": [
    {
     "name": "stdout",
     "output_type": "stream",
     "text": [
      "Samples\n",
      "[[500.]\n",
      " [500.]\n",
      " [500.]\n",
      " [500.]\n",
      " [500.]\n",
      " [500.]]\n",
      "AssayMTP\n",
      "[[0. 0. 0. 0. 0. 0. 0. 0. 0. 0. 0. 0.]\n",
      " [0. 0. 0. 0. 0. 0. 0. 0. 0. 0. 0. 0.]\n",
      " [0. 0. 0. 0. 0. 0. 0. 0. 0. 0. 0. 0.]\n",
      " [0. 0. 0. 0. 0. 0. 0. 0. 0. 0. 0. 0.]\n",
      " [0. 0. 0. 0. 0. 0. 0. 0. 0. 0. 0. 0.]\n",
      " [0. 0. 0. 0. 0. 0. 0. 0. 0. 0. 0. 0.]\n",
      " [0. 0. 0. 0. 0. 0. 0. 0. 0. 0. 0. 0.]\n",
      " [0. 0. 0. 0. 0. 0. 0. 0. 0. 0. 0. 0.]]\n",
      "MasterMix\n",
      "[[10000.]]\n"
     ]
    }
   ],
   "source": [
    "# Let's say we have 6 1.5 mL Eppis with 500 µL sample each.\n",
    "samples = robotools.Labware('Samples', 6, 1, min_volume=20, max_volume=1500, initial_volumes=500)\n",
    "\n",
    "# We want to run an assay in a microtiterplate\n",
    "assay = robotools.Labware('AssayMTP', 8, 12, min_volume=30, max_volume=300)\n",
    "\n",
    "# We have a trough with assay mastermix\n",
    "mastermix = robotools.Trough('MasterMix', 8, 1, min_volume=5000, max_volume=25_000, initial_volumes=10_000)\n",
    "\n",
    "print(samples)\n",
    "print(assay)\n",
    "print(mastermix)"
   ]
  },
  {
   "cell_type": "markdown",
   "metadata": {},
   "source": [
    "## Creating the `Worklist`\n",
    "The `Worklist` has a ton of methods. It doesn't make sense to list them all here, but you can use `help(robotools.Worklist)` or look them up in the documentation.\n",
    "\n",
    "The most important method is `Worklist.transfer`:"
   ]
  },
  {
   "cell_type": "code",
   "execution_count": 3,
   "metadata": {},
   "outputs": [
    {
     "name": "stdout",
     "output_type": "stream",
     "text": [
      "Help on function transfer in module robotools.evotools:\n",
      "\n",
      "transfer(self, source: robotools.liquidhandling.Labware, source_wells: Union[str, Sequence[str], numpy.ndarray], destination: robotools.liquidhandling.Labware, destination_wells: Union[str, Sequence[str], numpy.ndarray], volumes: Union[float, Sequence[float], numpy.ndarray], *, label: Union[str, NoneType] = None, wash_scheme: int = 1, partition_by: str = 'auto', **kwargs)\n",
      "    Transfer operation between two labwares.\n",
      "    \n",
      "    Parameters\n",
      "    ----------\n",
      "    source : liquidhandling.Labware\n",
      "        Source labware\n",
      "    source_wells : str or iterable\n",
      "        List of source well ids\n",
      "    destination : liquidhandling.Labware\n",
      "        Destination labware\n",
      "    destination_wells : str or iterable\n",
      "        List of destination well ids\n",
      "    volumes : float or iterable\n",
      "        Volume(s) to transfer\n",
      "    label : str\n",
      "        Label of the operation to log into labware history\n",
      "    wash_scheme : int\n",
      "        Wash scheme to apply after every tip use\n",
      "    partition_by : str\n",
      "        one of 'auto' (default), 'source' or 'destination'\n",
      "            'auto': partitioning by source unless the source is a Trough\n",
      "            'source': partitioning by source columns\n",
      "            'destination': partitioning by destination columns\n",
      "    kwargs\n",
      "        Additional keyword arguments to pass to aspirate and dispense\n",
      "\n"
     ]
    }
   ],
   "source": [
    "help(robotools.Worklist.transfer)"
   ]
  },
  {
   "cell_type": "code",
   "execution_count": 4,
   "metadata": {},
   "outputs": [],
   "source": [
    "n_samples = samples.n_rows\n",
    "n_replicates = 3\n",
    "\n",
    "with robotools.Worklist(\"02_assay.gwl\") as wl:\n",
    "    wl.wash()\n",
    "    # Add triplicates of the samples\n",
    "    for r in range(n_replicates):\n",
    "        wl.transfer(\n",
    "            samples, samples.wells,\n",
    "            assay, assay.wells[:n_samples, r],\n",
    "            10,\n",
    "            label=f'Add replicate {r+1} samples'\n",
    "        )\n",
    "    \n",
    "    # Select trough wells to aspirate from\n",
    "    trough_wells = robotools.get_trough_wells(\n",
    "        n=n_samples*n_replicates,\n",
    "        trough_wells=mastermix.wells[:,0]\n",
    "    )\n",
    "    \n",
    "    # Add buffer to all wells\n",
    "    wl.transfer(\n",
    "        mastermix, trough_wells,\n",
    "        assay, assay.wells[:n_samples,:n_replicates],\n",
    "        50,\n",
    "        label='Add mastermix'\n",
    "    )"
   ]
  },
  {
   "cell_type": "markdown",
   "metadata": {},
   "source": [
    "Our three labwares were modified by the pipetting steps. We can inspect the history of the 96-well plate to check if we selected the right wells & volumes:"
   ]
  },
  {
   "cell_type": "code",
   "execution_count": 5,
   "metadata": {},
   "outputs": [
    {
     "name": "stdout",
     "output_type": "stream",
     "text": [
      "AssayMTP\n",
      "initial\n",
      "[[0. 0. 0. 0. 0. 0. 0. 0. 0. 0. 0. 0.]\n",
      " [0. 0. 0. 0. 0. 0. 0. 0. 0. 0. 0. 0.]\n",
      " [0. 0. 0. 0. 0. 0. 0. 0. 0. 0. 0. 0.]\n",
      " [0. 0. 0. 0. 0. 0. 0. 0. 0. 0. 0. 0.]\n",
      " [0. 0. 0. 0. 0. 0. 0. 0. 0. 0. 0. 0.]\n",
      " [0. 0. 0. 0. 0. 0. 0. 0. 0. 0. 0. 0.]\n",
      " [0. 0. 0. 0. 0. 0. 0. 0. 0. 0. 0. 0.]\n",
      " [0. 0. 0. 0. 0. 0. 0. 0. 0. 0. 0. 0.]]\n",
      "\n",
      "Add replicate 1 samples\n",
      "[[10.  0.  0.  0.  0.  0.  0.  0.  0.  0.  0.  0.]\n",
      " [10.  0.  0.  0.  0.  0.  0.  0.  0.  0.  0.  0.]\n",
      " [10.  0.  0.  0.  0.  0.  0.  0.  0.  0.  0.  0.]\n",
      " [10.  0.  0.  0.  0.  0.  0.  0.  0.  0.  0.  0.]\n",
      " [10.  0.  0.  0.  0.  0.  0.  0.  0.  0.  0.  0.]\n",
      " [10.  0.  0.  0.  0.  0.  0.  0.  0.  0.  0.  0.]\n",
      " [ 0.  0.  0.  0.  0.  0.  0.  0.  0.  0.  0.  0.]\n",
      " [ 0.  0.  0.  0.  0.  0.  0.  0.  0.  0.  0.  0.]]\n",
      "\n",
      "Add replicate 2 samples\n",
      "[[10. 10.  0.  0.  0.  0.  0.  0.  0.  0.  0.  0.]\n",
      " [10. 10.  0.  0.  0.  0.  0.  0.  0.  0.  0.  0.]\n",
      " [10. 10.  0.  0.  0.  0.  0.  0.  0.  0.  0.  0.]\n",
      " [10. 10.  0.  0.  0.  0.  0.  0.  0.  0.  0.  0.]\n",
      " [10. 10.  0.  0.  0.  0.  0.  0.  0.  0.  0.  0.]\n",
      " [10. 10.  0.  0.  0.  0.  0.  0.  0.  0.  0.  0.]\n",
      " [ 0.  0.  0.  0.  0.  0.  0.  0.  0.  0.  0.  0.]\n",
      " [ 0.  0.  0.  0.  0.  0.  0.  0.  0.  0.  0.  0.]]\n",
      "\n",
      "Add replicate 3 samples\n",
      "[[10. 10. 10.  0.  0.  0.  0.  0.  0.  0.  0.  0.]\n",
      " [10. 10. 10.  0.  0.  0.  0.  0.  0.  0.  0.  0.]\n",
      " [10. 10. 10.  0.  0.  0.  0.  0.  0.  0.  0.  0.]\n",
      " [10. 10. 10.  0.  0.  0.  0.  0.  0.  0.  0.  0.]\n",
      " [10. 10. 10.  0.  0.  0.  0.  0.  0.  0.  0.  0.]\n",
      " [10. 10. 10.  0.  0.  0.  0.  0.  0.  0.  0.  0.]\n",
      " [ 0.  0.  0.  0.  0.  0.  0.  0.  0.  0.  0.  0.]\n",
      " [ 0.  0.  0.  0.  0.  0.  0.  0.  0.  0.  0.  0.]]\n",
      "\n",
      "Add mastermix\n",
      "[[60. 60. 60.  0.  0.  0.  0.  0.  0.  0.  0.  0.]\n",
      " [60. 60. 60.  0.  0.  0.  0.  0.  0.  0.  0.  0.]\n",
      " [60. 60. 60.  0.  0.  0.  0.  0.  0.  0.  0.  0.]\n",
      " [60. 60. 60.  0.  0.  0.  0.  0.  0.  0.  0.  0.]\n",
      " [60. 60. 60.  0.  0.  0.  0.  0.  0.  0.  0.  0.]\n",
      " [60. 60. 60.  0.  0.  0.  0.  0.  0.  0.  0.  0.]\n",
      " [ 0.  0.  0.  0.  0.  0.  0.  0.  0.  0.  0.  0.]\n",
      " [ 0.  0.  0.  0.  0.  0.  0.  0.  0.  0.  0.  0.]]\n",
      "\n"
     ]
    }
   ],
   "source": [
    "print(assay.report)"
   ]
  },
  {
   "cell_type": "markdown",
   "metadata": {},
   "source": [
    "If a `filepath` is passed, the `Worklist` automatically writes the worklist (`wl`) to it, overwriting any previous content.\n",
    "\n",
    "```python\n",
    "with Worklist(filepath=...) as wl:\n",
    "    ...\n",
    "```\n",
    "\n",
    "Note that it includes the `label`s as comments."
   ]
  },
  {
   "cell_type": "code",
   "execution_count": 6,
   "metadata": {
    "scrolled": false
   },
   "outputs": [
    {
     "name": "stdout",
     "output_type": "stream",
     "text": [
      "W1;\n",
      "C;Add replicate 1 samples\n",
      "A;Samples;;;1;;10.00;;;;\n",
      "D;AssayMTP;;;1;;10.00;;;;\n",
      "W1;\n",
      "A;Samples;;;2;;10.00;;;;\n",
      "D;AssayMTP;;;2;;10.00;;;;\n",
      "W1;\n",
      "A;Samples;;;3;;10.00;;;;\n",
      "D;AssayMTP;;;3;;10.00;;;;\n",
      "W1;\n",
      "A;Samples;;;4;;10.00;;;;\n",
      "D;AssayMTP;;;4;;10.00;;;;\n",
      "W1;\n",
      "A;Samples;;;5;;10.00;;;;\n",
      "D;AssayMTP;;;5;;10.00;;;;\n",
      "W1;\n",
      "A;Samples;;;6;;10.00;;;;\n",
      "D;AssayMTP;;;6;;10.00;;;;\n",
      "W1;\n",
      "C;Add replicate 2 samples\n",
      "A;Samples;;;1;;10.00;;;;\n",
      "D;AssayMTP;;;9;;10.00;;;;\n",
      "W1;\n",
      "A;Samples;;;2;;10.00;;;;\n",
      "D;AssayMTP;;;10;;10.00;;;;\n",
      "W1;\n",
      "A;Samples;;;3;;10.00;;;;\n",
      "D;AssayMTP;;;11;;10.00;;;;\n",
      "W1;\n",
      "A;Samples;;;4;;10.00;;;;\n",
      "D;AssayMTP;;;12;;10.00;;;;\n",
      "W1;\n",
      "A;Samples;;;5;;10.00;;;;\n",
      "D;AssayMTP;;;13;;10.00;;;;\n",
      "W1;\n",
      "A;Samples;;;6;;10.00;;;;\n",
      "D;AssayMTP;;;14;;10.00;;;;\n",
      "W1;\n",
      "C;Add replicate 3 samples\n",
      "A;Samples;;;1;;10.00;;;;\n",
      "D;AssayMTP;;;17;;10.00;;;;\n",
      "W1;\n",
      "A;Samples;;;2;;10.00;;;;\n",
      "D;AssayMTP;;;18;;10.00;;;;\n",
      "W1;\n",
      "A;Samples;;;3;;10.00;;;;\n",
      "D;AssayMTP;;;19;;10.00;;;;\n",
      "W1;\n",
      "A;Samples;;;4;;10.00;;;;\n",
      "D;AssayMTP;;;20;;10.00;;;;\n",
      "W1;\n",
      "A;Samples;;;5;;10.00;;;;\n",
      "D;AssayMTP;;;21;;10.00;;;;\n",
      "W1;\n",
      "A;Samples;;;6;;10.00;;;;\n",
      "D;AssayMTP;;;22;;10.00;;;;\n",
      "W1;\n",
      "C;Add mastermix\n",
      "A;MasterMix;;;1;;50.00;;;;\n",
      "D;AssayMTP;;;1;;50.00;;;;\n",
      "W1;\n",
      "A;MasterMix;;;2;;50.00;;;;\n",
      "D;AssayMTP;;;2;;50.00;;;;\n",
      "W1;\n",
      "A;MasterMix;;;3;;50.00;;;;\n",
      "D;AssayMTP;;;3;;50.00;;;;\n",
      "W1;\n",
      "A;MasterMix;;;4;;50.00;;;;\n",
      "D;AssayMTP;;;4;;50.00;;;;\n",
      "W1;\n",
      "A;MasterMix;;;5;;50.00;;;;\n",
      "D;AssayMTP;;;5;;50.00;;;;\n",
      "W1;\n",
      "A;MasterMix;;;6;;50.00;;;;\n",
      "D;AssayMTP;;;6;;50.00;;;;\n",
      "W1;\n",
      "A;MasterMix;;;7;;50.00;;;;\n",
      "D;AssayMTP;;;9;;50.00;;;;\n",
      "W1;\n",
      "A;MasterMix;;;8;;50.00;;;;\n",
      "D;AssayMTP;;;10;;50.00;;;;\n",
      "W1;\n",
      "A;MasterMix;;;1;;50.00;;;;\n",
      "D;AssayMTP;;;11;;50.00;;;;\n",
      "W1;\n",
      "A;MasterMix;;;2;;50.00;;;;\n",
      "D;AssayMTP;;;12;;50.00;;;;\n",
      "W1;\n",
      "A;MasterMix;;;3;;50.00;;;;\n",
      "D;AssayMTP;;;13;;50.00;;;;\n",
      "W1;\n",
      "A;MasterMix;;;4;;50.00;;;;\n",
      "D;AssayMTP;;;14;;50.00;;;;\n",
      "W1;\n",
      "A;MasterMix;;;5;;50.00;;;;\n",
      "D;AssayMTP;;;17;;50.00;;;;\n",
      "W1;\n",
      "A;MasterMix;;;6;;50.00;;;;\n",
      "D;AssayMTP;;;18;;50.00;;;;\n",
      "W1;\n",
      "A;MasterMix;;;7;;50.00;;;;\n",
      "D;AssayMTP;;;19;;50.00;;;;\n",
      "W1;\n",
      "A;MasterMix;;;8;;50.00;;;;\n",
      "D;AssayMTP;;;20;;50.00;;;;\n",
      "W1;\n",
      "A;MasterMix;;;1;;50.00;;;;\n",
      "D;AssayMTP;;;21;;50.00;;;;\n",
      "W1;\n",
      "A;MasterMix;;;2;;50.00;;;;\n",
      "D;AssayMTP;;;22;;50.00;;;;\n",
      "W1;\n"
     ]
    }
   ],
   "source": [
    "with open(\"02_assay.gwl\") as wlfile:\n",
    "    print(wlfile.read())"
   ]
  },
  {
   "cell_type": "code",
   "execution_count": null,
   "metadata": {},
   "outputs": [],
   "source": []
  }
 ],
 "metadata": {
  "kernelspec": {
   "display_name": "Python 3",
   "language": "python",
   "name": "python3"
  },
  "language_info": {
   "codemirror_mode": {
    "name": "ipython",
    "version": 3
   },
   "file_extension": ".py",
   "mimetype": "text/x-python",
   "name": "python",
   "nbconvert_exporter": "python",
   "pygments_lexer": "ipython3",
   "version": "3.7.9"
  }
 },
 "nbformat": 4,
 "nbformat_minor": 2
}
